{
 "cells": [
  {
   "cell_type": "markdown",
   "id": "2f76af54-8d55-4083-86b0-ee4cdef27aa8",
   "metadata": {},
   "source": [
    "# Gaps among primes - closing the cycle G(p#)\n",
    "For the cycle $\\mathcal{G}(p^\\#)$, let $q=g_1+1$ be the next prime.  All of the gaps from $q$ through $q^2$\n",
    "will survive the sieve as gaps between primes.  We may not be able to create the subsequent cycles of gaps, but\n",
    "we can enforce the fusions within $\\mathcal{G}(p^\\#)$ to confirm the gaps among primes, from $q$ through $p^\\#$.\n",
    "\n",
    "The code in this notebook will close the cycles of gaps up through $\\mathcal{G}(23^\\#)$.  NOTE that the outputs\n",
    "are available in the npy-files.\n"
   ]
  },
  {
   "cell_type": "code",
   "execution_count": 1,
   "id": "f5409301-7808-4074-89ea-cc28b271072c",
   "metadata": {},
   "outputs": [],
   "source": [
    "import pandas as pd\n",
    "import numpy as np\n",
    "import array\n",
    "from plotnine import ggplot, geom_point, aes, geom_line, theme, ggsave\n",
    "import gc\n",
    "import psutil\n",
    "import sys"
   ]
  },
  {
   "cell_type": "code",
   "execution_count": 2,
   "id": "80f28ae3-3afb-49f3-b1c5-471c98a81552",
   "metadata": {},
   "outputs": [],
   "source": [
    "G23= np.load('G23uint.npy')"
   ]
  },
  {
   "cell_type": "markdown",
   "id": "363b9d73-1d53-4570-baf8-4764248ea611",
   "metadata": {},
   "source": [
    "## NOTE: This approach works up through $\\mathcal{G}(23^\\#)$.\n",
    "From 29 on, the processing time for this approach does not scale.  The large arrays seem to be drastically slowing down the kernel.\n",
    "We have written a special notebook for closing $\\mathcal{G}(29^\\#)$ -- not this one!"
   ]
  },
  {
   "cell_type": "code",
   "execution_count": null,
   "id": "c01237b6-8f1d-42c7-aca2-c8ed255a3253",
   "metadata": {},
   "outputs": [],
   "source": [
    "# block to check the available system memory\n",
    "gc.collect()\n",
    "memory = psutil.virtual_memory()\n",
    "available_memory = memory.available\n",
    "del memory\n",
    "print(f\"Available memory: {available_memory / (1024 ** 2):.2f} MB\")"
   ]
  },
  {
   "cell_type": "code",
   "execution_count": 4,
   "id": "95c2df52-d320-45fd-9e7d-3295f7daef5b",
   "metadata": {},
   "outputs": [],
   "source": [
    "# function for closing a cycle\n",
    "# we assume that Gin is (the front of) a cycle of gaps\n",
    "# NOTE: this version uses modular sums in order to avoid scalar overflows.\n",
    "def closeG(Gin):\n",
    "    lenG = len(Gin)\n",
    "    try:\n",
    "        Gout = Gin.copy()  # start with a complete copy of the input array Gin\n",
    "    except:\n",
    "        print(\"Memory error in closeG\")\n",
    "        return\n",
    "    # to avoid overflow in sum() we convert the elements of Gout to integer\n",
    "    spanG = np.sum(Gout, dtype=int)  \n",
    "    maxp = int(np.sqrt(spanG)) # bound on the Horizon of survival\n",
    "    # initialize variables for the first pass through the main loop\n",
    "    q = int(Gin[0]+1)  # initiate the prime q\n",
    "    iq = int(0) # index of the prime we're on\n",
    "    jg = 1\n",
    "    headG = 1  # start beyond the current prime - we don't want to aggregate the first gap\n",
    "    tailG = lenG-1 # end of the effective cycle Gout\n",
    "    '''\n",
    "    # A different approach to the fusions in step R3, we want to preserve the gaps at the front of the cycle.\n",
    "    # instead of aggregating them into gap g1.\n",
    "    # And without the concatentations of step R2, the fusions stop at the end of the array Gin.\n",
    "    # Mindful of possible memory constraints, we perform the fusions in-place within Gout\n",
    "    # We use residues mod q to find multiples\n",
    "    '''\n",
    "    while (q <= maxp):\n",
    "        # loop through multiples of q, using jq, identify fusions\n",
    "        firstflag = True\n",
    "        jg = headG + 1\n",
    "        residuesum = (1+np.sum(Gout[0:(jg+1)], dtype=int)) % q  \n",
    "        print(f\"Closing over prime {q} of {maxp}, head {iq}, tail {tailG}, jg {jg}, residue {residuesum}\", end='\\r')\n",
    "        # first fusion will be at q^2.  We preserve the gaps at front of cycle.\n",
    "\n",
    "        while (jg < tailG):\n",
    "            jg += 1\n",
    "            residuesum = (residuesum + Gout[jg])% q\n",
    "            if (residuesum == 0 and jg < tailG): # multiple of q\n",
    "                Gout[jg] = Gout[jg] + Gout[jg+1]\n",
    "                residuesum = (Gout[jg+1])% q\n",
    "                Gout[jg+1] = 0\n",
    "                jg += 1\n",
    "                if (firstflag):\n",
    "                    firstflag = False\n",
    "                    headG = jg\n",
    "\n",
    "        # End of loop for multiples of q\n",
    "        Gout = [x for x in Gout if x > 0]\n",
    "        # Prepare for next pass through q-loop\n",
    "        iq += 1\n",
    "        q += Gout[iq]\n",
    "        tailG = len(Gout)-1\n",
    "        if ((iq % 1000) == 0):\n",
    "            gc.collect()\n",
    "    # end of q-loop -- Gin should be closed at this point\n",
    "\n",
    "    return(Gout)\n",
    "    "
   ]
  },
  {
   "cell_type": "code",
   "execution_count": 5,
   "id": "464bce38-7325-4686-98e9-7906100e0ab2",
   "metadata": {},
   "outputs": [
    {
     "data": {
      "text/plain": [
       "array([30,  6,  4,  2,  4,  6,  6,  2,  6,  4,  2,  6,  4,  6,  8,  4,  2,\n",
       "        4,  2,  4, 14,  4,  6,  2, 10,  2,  6,  6,  4,  6,  6,  2, 10,  2,\n",
       "        4,  2, 12, 12,  4,  2,  4,  6,  2, 10,  6,  6,  6,  2,  6,  4,  2,\n",
       "       10, 14,  4,  2,  4, 14,  6, 10,  2,  4,  6,  8,  6,  6,  4,  6,  8,\n",
       "        4,  8, 10,  2, 10,  2,  6,  4,  6,  8,  4,  2,  4, 12,  8,  4,  8,\n",
       "        4,  6, 12,  2, 18,  6, 10,  6,  6,  2,  6, 10,  6,  6,  2],\n",
       "      dtype=uint16)"
      ]
     },
     "execution_count": 5,
     "metadata": {},
     "output_type": "execute_result"
    }
   ],
   "source": [
    "G23[0:100]"
   ]
  },
  {
   "cell_type": "code",
   "execution_count": null,
   "id": "220d0769-0d84-4601-8ea3-4ea82bb79fa6",
   "metadata": {},
   "outputs": [
    {
     "name": "stdout",
     "output_type": "stream",
     "text": [
      "Closing over prime 1973 of 80434, head 287, tail 481598042, jg 270407, residue 5306"
     ]
    }
   ],
   "source": [
    "cG23 = closeG(G23)"
   ]
  },
  {
   "cell_type": "code",
   "execution_count": 7,
   "id": "9a911911-22ae-4a58-9235-df53142d93a3",
   "metadata": {},
   "outputs": [],
   "source": [
    "primes23 = np.zeros((len(cG23)-1), dtype=int) # can't trust the last gap\n",
    "primes23[0] = 1+cG23[0]\n",
    "i = 1\n",
    "while (i < len(primes23)):\n",
    "    primes23[i] = primes23[i-1]+cG23[i]\n",
    "    i += 1"
   ]
  },
  {
   "cell_type": "code",
   "execution_count": 8,
   "id": "3d84588a-dea8-4908-ae30-dd5810db1209",
   "metadata": {},
   "outputs": [
    {
     "name": "stdout",
     "output_type": "stream",
     "text": [
      "Cycle length 36495360 survivors length 12283523, primes 12283522\n"
     ]
    }
   ],
   "source": [
    "print(f\"Cycle length {len(G23)} survivors length {len(cG23)}, primes {len(primes23)}\")"
   ]
  },
  {
   "cell_type": "code",
   "execution_count": 9,
   "id": "1e1bbf9c-2203-4808-8d14-75ee38e8081a",
   "metadata": {},
   "outputs": [
    {
     "data": {
      "text/plain": [
       "array([  29,   31,   37,   41,   43,   47,   53,   59,   61,   67,   71,\n",
       "         73,   79,   83,   89,   97,  101,  103,  107,  109,  113,  127,\n",
       "        131,  137,  139,  149,  151,  157,  163,  167,  173,  179,  181,\n",
       "        191,  193,  197,  199,  211,  223,  227,  229,  233,  239,  241,\n",
       "        251,  257,  263,  269,  271,  277,  281,  283,  293,  307,  311,\n",
       "        313,  317,  331,  337,  347,  349,  353,  359,  367,  373,  379,\n",
       "        383,  389,  397,  401,  409,  419,  421,  431,  433,  439,  443,\n",
       "        449,  457,  461,  463,  467,  479,  487,  491,  499,  503,  509,\n",
       "        521,  523,  541,  547,  557,  563,  569,  571,  577,  587,  593,\n",
       "        599,  601,  607,  613,  617,  619,  631,  641,  643,  647,  653,\n",
       "        659,  661,  673,  677,  683,  691,  701,  709,  719,  727,  733,\n",
       "        739,  743,  751,  757,  761,  769,  773,  787,  797,  809,  811,\n",
       "        821,  823,  827,  829,  839,  853,  857,  859,  863,  877,  881,\n",
       "        883,  887,  907,  911,  919,  929,  937,  941,  947,  953,  967,\n",
       "        971,  977,  983,  991,  997, 1009, 1013, 1019, 1021, 1031, 1033,\n",
       "       1039, 1049, 1051, 1061, 1063, 1069, 1087, 1091, 1093, 1097, 1103,\n",
       "       1109, 1117, 1123, 1129, 1151, 1153, 1163, 1171, 1181, 1187, 1193,\n",
       "       1201, 1213, 1217, 1223, 1229, 1231, 1237, 1249, 1259, 1277, 1279,\n",
       "       1283, 1289])"
      ]
     },
     "execution_count": 9,
     "metadata": {},
     "output_type": "execute_result"
    }
   ],
   "source": [
    "primes29[0:200]"
   ]
  },
  {
   "cell_type": "code",
   "execution_count": 10,
   "id": "c93b5a2b-9cb9-4e52-967a-01cbbe640c6c",
   "metadata": {},
   "outputs": [
    {
     "data": {
      "text/plain": [
       "array([545023, 545029, 545033, 545057, 545063, 545087, 545089, 545093,\n",
       "       545117, 545131, 545141, 545143, 545161, 545189, 545203, 545213,\n",
       "       545231, 545239, 545257, 545267, 545291, 545329, 545371, 545387,\n",
       "       545429, 545437, 545443, 545449, 545473, 545477, 545483, 545497,\n",
       "       545521, 545527, 545533, 545543, 545549, 545551, 545579, 545599,\n",
       "       545609, 545617, 545621, 545641, 545647, 545651, 545663, 545711,\n",
       "       545723, 545731, 545747, 545749, 545759, 545773, 545789, 545791,\n",
       "       545827, 545843, 545863, 545873, 545893, 545899, 545911, 545917,\n",
       "       545929, 545933, 545939, 545947, 545959, 546001, 546017, 546019,\n",
       "       546031, 546047, 546053, 546067, 546071, 546097, 546101, 546103,\n",
       "       546109, 546137, 546149, 546151, 546173, 546179, 546197, 546211,\n",
       "       546233, 546239, 546241, 546253, 546263, 546283, 546289, 546317,\n",
       "       546323, 546341, 546349, 546353, 546361, 546367, 546373, 546391,\n",
       "       546461, 546467, 546479, 546509, 546523, 546547, 546569, 546583,\n",
       "       546587, 546599, 546613, 546617, 546619, 546631, 546643, 546661,\n",
       "       546671, 546677, 546683, 546691, 546709, 546719, 546731, 546739,\n",
       "       546781, 546841, 546859, 546863, 546869, 546881, 546893, 546919,\n",
       "       546937, 546943, 546947, 546961, 546967, 546977, 547007, 547021,\n",
       "       547037, 547061, 547087, 547093, 547097, 547103, 547121, 547133,\n",
       "       547139, 547171, 547223, 547229, 547237, 547241, 547249, 547271,\n",
       "       547273, 547291, 547301, 547321, 547357, 547361, 547363, 547369,\n",
       "       547373, 547387, 547397, 547399, 547411, 547441, 547453, 547471,\n",
       "       547483, 547487, 547493, 547499, 547501, 547513, 547529, 547537,\n",
       "       547559, 547567, 547577, 547583, 547601, 547609, 547619, 547627,\n",
       "       547639, 547643, 547661, 547663, 547681, 547709, 547727, 547741])"
      ]
     },
     "execution_count": 10,
     "metadata": {},
     "output_type": "execute_result"
    }
   ],
   "source": [
    "# primes23[44940:45140]"
   ]
  },
  {
   "cell_type": "code",
   "execution_count": null,
   "id": "fbca41f4-3c80-4ad7-9ab6-3cc4df812b5e",
   "metadata": {},
   "outputs": [],
   "source": [
    "# primes23[12283450:12283521]"
   ]
  },
  {
   "cell_type": "code",
   "execution_count": 85,
   "id": "fca84cdd-e822-4ac3-808b-77a6ef073d90",
   "metadata": {},
   "outputs": [
    {
     "data": {
      "text/plain": [
       "array([223091299, 223091303, 223091327, 223091333, 223091347, 223091359,\n",
       "       223091381, 223091387, 223091437, 223091501, 223091503, 223091543,\n",
       "       223091549, 223091551, 223091581, 223091587, 223091599, 223091621,\n",
       "       223091623, 223091639, 223091747, 223091753, 223091797, 223091837,\n",
       "       223091861, 223091873, 223091887, 223091917, 223091959, 223091963,\n",
       "       223091989, 223092007, 223092017, 223092043, 223092047, 223092049,\n",
       "       223092061, 223092073, 223092101, 223092109, 223092119, 223092169,\n",
       "       223092209, 223092217, 223092227, 223092239, 223092257, 223092263,\n",
       "       223092269, 223092301, 223092361, 223092431, 223092469, 223092481,\n",
       "       223092497, 223092517, 223092559, 223092577, 223092587, 223092601,\n",
       "       223092631, 223092671, 223092673, 223092689, 223092733, 223092743,\n",
       "       223092757, 223092769, 223092773, 223092791, 223092809])"
      ]
     },
     "execution_count": 85,
     "metadata": {},
     "output_type": "execute_result"
    }
   ],
   "source": [
    "#primes23[12283450:12283521]"
   ]
  },
  {
   "cell_type": "code",
   "execution_count": 11,
   "id": "9b4c0a6e-e963-4421-bf7c-7a8c21bafb27",
   "metadata": {},
   "outputs": [
    {
     "data": {
      "text/plain": [
       "0"
      ]
     },
     "execution_count": 11,
     "metadata": {},
     "output_type": "execute_result"
    }
   ],
   "source": [
    "gc.collect()"
   ]
  },
  {
   "cell_type": "code",
   "execution_count": 87,
   "id": "3d988c9e-6d01-4c78-8d2e-d778fd341f8d",
   "metadata": {},
   "outputs": [],
   "source": [
    "# np.save('filename', array)"
   ]
  },
  {
   "cell_type": "code",
   "execution_count": null,
   "id": "3775e75e-a2a0-4595-9814-83ce0b20c4b2",
   "metadata": {},
   "outputs": [],
   "source": []
  }
 ],
 "metadata": {
  "kernelspec": {
   "display_name": "Python 3 (ipykernel)",
   "language": "python",
   "name": "python3"
  },
  "language_info": {
   "codemirror_mode": {
    "name": "ipython",
    "version": 3
   },
   "file_extension": ".py",
   "mimetype": "text/x-python",
   "name": "python",
   "nbconvert_exporter": "python",
   "pygments_lexer": "ipython3",
   "version": "3.11.5"
  }
 },
 "nbformat": 4,
 "nbformat_minor": 5
}
