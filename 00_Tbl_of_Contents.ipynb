{
 "cells": [
  {
   "cell_type": "markdown",
   "id": "b8b5d33f-fee2-40e5-bf09-85a997da7433",
   "metadata": {},
   "source": [
    "# Table of Contents"
   ]
  },
  {
   "cell_type": "markdown",
   "id": "b4be7a76-e349-47da-8218-ad6f886de298",
   "metadata": {},
   "source": [
    "This set of notebooks contains code and data for exploring the cycles of gaps $\\mathcal{G}(p^\\#)$ that occur at each stage of Eratosthenes sieve."
   ]
  },
  {
   "cell_type": "markdown",
   "id": "ebddf2a6-606d-4765-a014-930487075db2",
   "metadata": {},
   "source": [
    "<i>01_Cycles</i>  : Code for the 3-step recursion to create cycles of gaps $\\mathcal{G}(p_k^\\#)\\longrightarrow \\mathcal{G}(p_{k+1}^\\#)$. This code works well up through $p=29$.  The files G17uint, G19uint, G23uint, and G29uint are included for convenience.\n",
    "\n",
    "<i>01A_closeG</i> : Code for closing a cycle of gaps, performing further fusions (step R3 in the recursion) in place, without concatenating additional copies of the cycle.  This provides the gaps among the primes covered by this cycle of gaps.  The files cG19 and cG23 are included for convenience.\n",
    "\n",
   "<i>02_wg</i> :  Code for calculating and displaying the relative population models $w_{g,1}(\\lambda)$ for $g \\le 82$.\n",
    "\n",
    "<i>03_lambda_H14929</i> : Code for (A) calculating the value of the parameter $\\lambda = \\prod_{41}^{p_k} \\frac{p-3}{p-2}$ with $p_0=37$, across the span of $\\mathcal{G}(23^\\#)$; and (B) displaying the accumulated gaps across consecutive intervals of survival $\\Delta H(p)$.\n",
    "\n",
    "<i>04_bias_lastdigits</i> : Code for understanding and exploring the biases observed by Lemke Oliver and Soundararajan in\n",
    "their 2016 statistical study of the last digits of consecutive primes.  With the relative population models \n",
    "$w_{g,1}(\\lambda)$ we see that the observed biases are entirely expected and transient, although these biases will\n",
    "persist well beyond the computational range.\n",
    "\n",
    "<i>21_p-rough_interactive</i> : Code for exploring the $29$-rough numbers through an interactive graph of $\\Delta \\Phi(x,29)$.\n"
   ]
  },
  {
   "cell_type": "code",
   "execution_count": null,
   "id": "469866bc-cb7a-4844-ae07-8ca159dbe767",
   "metadata": {},
   "outputs": [],
   "source": []
  },
  {
   "cell_type": "code",
   "execution_count": null,
   "id": "b02e6352-2ccd-4808-ab6f-f87b182df15d",
   "metadata": {},
   "outputs": [],
   "source": []
  }
 ],
 "metadata": {
  "kernelspec": {
   "display_name": "Python 3 (ipykernel)",
   "language": "python",
   "name": "python3"
  },
  "language_info": {
   "codemirror_mode": {
    "name": "ipython",
    "version": 3
   },
   "file_extension": ".py",
   "mimetype": "text/x-python",
   "name": "python",
   "nbconvert_exporter": "python",
   "pygments_lexer": "ipython3",
   "version": "3.11.5"
  }
 },
 "nbformat": 4,
 "nbformat_minor": 5
}
