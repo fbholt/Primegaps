{
 "cells": [
  {
   "cell_type": "markdown",
   "id": "542dac8d-5d61-49ff-ad41-59b7f9e563f1",
   "metadata": {},
   "source": [
    "# $\\lambda$ and $\\Delta H(p)$ calculations\n",
    "For the models of relative populations, we use $p_0=37$.\n",
    "The parameter\n",
    "$$\\lambda(p_k) = \\prod_{p=41}^{p_k} \\frac{p-3}{p-2} $$\n",
    "So we create an array of values of $\\lambda$ associated with the primes covered by \n",
    "$\\mathcal{G}(23^\\#)$ for $p_0 = 37$.  The minimum value under this range is\n",
    "$$ \\lambda(p_k=223092827) = 0.19416057 $$\n",
    "However, the range of these primes is almost covered by the horizon of survival $H(p_k)= [p_{k+1},p_{k+1}^2]$\n",
    "$$ H(p=14929) \\; {\\rm with} \\; \\lambda=0.3880218443549397$$\n",
    "\n",
    "There are three sections to building up these results:  calculation of values of $\\lambda$ across the \n",
    "range of primes; importing the curves $w_{g,1}(\\lambda)$ from the previous notebook; and enumerating\n",
    "the gaps across consecutive intervals of survival $\\Delta H(p)$."
   ]
  },
  {
   "cell_type": "code",
   "execution_count": 1,
   "id": "4535b620-aea8-4270-b810-76a2288702fb",
   "metadata": {},
   "outputs": [
    {
     "data": {
      "text/plain": [
       "<function matplotlib.pyplot.ion() -> 'AbstractContextManager'>"
      ]
     },
     "execution_count": 1,
     "metadata": {},
     "output_type": "execute_result"
    }
   ],
   "source": [
    "%reset -f\n",
    "\n",
    "import pandas as pd\n",
    "import numpy as np\n",
    "from numpy.polynomial.polynomial import polyval\n",
    "import array\n",
    "import matplotlib\n",
    "%matplotlib inline\n",
    "import matplotlib.pyplot as plt\n",
    "#from plotnine import ggplot, geom_point, aes, geom_line, theme, ggsave\n",
    "import gc\n",
    "import psutil\n",
    "import sys\n",
    "\n",
    "import itertools\n",
    "from ipywidgets import interact\n",
    "import ipywidgets as widgets\n",
    "from IPython.display import display\n",
    "plt.ion\n"
   ]
  },
  {
   "cell_type": "code",
   "execution_count": 2,
   "id": "acb9e104-3ec4-4e29-8346-517d22c30174",
   "metadata": {},
   "outputs": [],
   "source": [
    "primes23 = np.load('primes23.npy')\n",
    "G23 = np.load('G23uint.npy')\n",
    "cG23 = np.load('cG23.npy')"
   ]
  },
  {
   "cell_type": "code",
   "execution_count": 3,
   "id": "13f5ddeb-b7dc-479d-89aa-cc1c5a55096e",
   "metadata": {},
   "outputs": [
    {
     "name": "stdout",
     "output_type": "stream",
     "text": [
      "Available memory: 4021.25 MB\n"
     ]
    }
   ],
   "source": [
    "# block to check the available system memory\n",
    "gc.collect()\n",
    "memory = psutil.virtual_memory()\n",
    "available_memory = memory.available\n",
    "del memory\n",
    "print(f\"Available memory: {available_memory / (1024 ** 2):.2f} MB\")"
   ]
  },
  {
   "cell_type": "code",
   "execution_count": 4,
   "id": "7600f947-bbc0-4e2c-924b-3b0dec7b67e7",
   "metadata": {},
   "outputs": [
    {
     "name": "stdout",
     "output_type": "stream",
     "text": [
      "Length primes 12283522 gaps 12283523 maxp 223092827\n"
     ]
    }
   ],
   "source": [
    "lenp23 = len(primes23)\n",
    "maxp23 = primes23[-1]\n",
    "print(f\"Length primes {lenp23} gaps {len(cG23)} maxp {maxp23}\")\n",
    "# These lengths= primes 12283522 gaps 12283523 maxp 223092827"
   ]
  },
  {
   "cell_type": "code",
   "execution_count": 5,
   "id": "69a04828-fb58-4d24-9d64-37d6003441c3",
   "metadata": {},
   "outputs": [],
   "source": [
    "lambda23 = np.zeros(lenp23)"
   ]
  },
  {
   "cell_type": "code",
   "execution_count": 6,
   "id": "c4c144d3-759c-4cf8-afe3-1377de130256",
   "metadata": {},
   "outputs": [],
   "source": [
    "# primes23[2:5] are 37, 41, 43\n",
    "lambda23[0] = 1\n",
    "ilam = 0\n",
    "ip = 2 # the offset from lambda23 into primes23 for p0=37\n",
    "while (ip < (lenp23-1)):\n",
    "    ilam += 1\n",
    "    ip += 1\n",
    "    lambda23[ilam] = lambda23[ilam-1]*(primes23[ip]-3)/(primes23[ip]-2)"
   ]
  },
  {
   "cell_type": "code",
   "execution_count": 7,
   "id": "5450dc1a-d9b5-412b-9539-0a6cc15b8167",
   "metadata": {},
   "outputs": [
    {
     "data": {
      "text/plain": [
       "array([28,  2,  6,  4,  2,  4,  6,  6,  2,  6], dtype=uint16)"
      ]
     },
     "execution_count": 7,
     "metadata": {},
     "output_type": "execute_result"
    }
   ],
   "source": [
    "# to match indexing across arrays, cG23[i]=primes23[i]-primes23[i-1]\n",
    "cG23[0:10]"
   ]
  },
  {
   "cell_type": "code",
   "execution_count": 8,
   "id": "f236580c-110e-4c76-a184-2b42bc24db0f",
   "metadata": {},
   "outputs": [
    {
     "data": {
      "text/plain": [
       "array([0.19416066, 0.19416066, 0.19416065, 0.19416065, 0.19416065,\n",
       "       0.19416065, 0.19416065, 0.19416065, 0.19416065, 0.19416065,\n",
       "       0.19416065, 0.19416065, 0.19416065, 0.19416064, 0.19416064,\n",
       "       0.19416064, 0.19416064, 0.19416064, 0.19416064, 0.19416064,\n",
       "       0.19416064, 0.19416064, 0.19416064, 0.19416064, 0.19416064,\n",
       "       0.19416063, 0.19416063, 0.19416063, 0.19416063, 0.19416063,\n",
       "       0.19416063, 0.19416063, 0.19416063, 0.19416063, 0.19416063,\n",
       "       0.19416063, 0.19416062, 0.19416062, 0.19416062, 0.19416062,\n",
       "       0.19416062, 0.19416062, 0.19416062, 0.19416062, 0.19416062,\n",
       "       0.19416062, 0.19416062, 0.19416062, 0.19416061, 0.19416061,\n",
       "       0.19416061, 0.19416061, 0.19416061, 0.19416061, 0.19416061,\n",
       "       0.19416061, 0.19416061, 0.19416061, 0.19416061, 0.1941606 ,\n",
       "       0.1941606 , 0.1941606 , 0.1941606 , 0.1941606 , 0.1941606 ,\n",
       "       0.1941606 , 0.1941606 , 0.1941606 , 0.1941606 , 0.1941606 ,\n",
       "       0.1941606 , 0.19416059, 0.19416059, 0.19416059, 0.19416059,\n",
       "       0.19416059, 0.19416059, 0.19416059, 0.19416059, 0.19416059,\n",
       "       0.19416059, 0.19416059, 0.19416058, 0.19416058, 0.19416058,\n",
       "       0.19416058, 0.19416058, 0.19416058, 0.19416058, 0.19416058,\n",
       "       0.19416058, 0.19416058, 0.19416058, 0.19416058, 0.19416057,\n",
       "       0.19416057, 0.19416057, 0.19416057, 0.        ])"
      ]
     },
     "execution_count": 8,
     "metadata": {},
     "output_type": "execute_result"
    }
   ],
   "source": [
    "lambda23[-100:-1]"
   ]
  },
  {
   "cell_type": "code",
   "execution_count": 9,
   "id": "323b43c5-b197-44e2-8226-80d8212d67c8",
   "metadata": {},
   "outputs": [
    {
     "data": {
      "text/plain": [
       "np.uint16(248)"
      ]
     },
     "execution_count": 9,
     "metadata": {},
     "output_type": "execute_result"
    }
   ],
   "source": [
    "maxgap = max(cG23)\n",
    "maxgap"
   ]
  },
  {
   "cell_type": "code",
   "execution_count": 10,
   "id": "529d4ce4-d0f2-4810-ab18-db5ab3cf8c58",
   "metadata": {},
   "outputs": [
    {
     "data": {
      "text/plain": [
       "np.float64(18.161961352618462)"
      ]
     },
     "execution_count": 10,
     "metadata": {},
     "output_type": "execute_result"
    }
   ],
   "source": [
    "np.mean(cG23)"
   ]
  },
  {
   "cell_type": "code",
   "execution_count": 11,
   "id": "a89977aa-2d75-4241-9e0b-b77bafe670f2",
   "metadata": {},
   "outputs": [
    {
     "data": {
      "text/plain": [
       "np.float64(14936.292277536617)"
      ]
     },
     "execution_count": 11,
     "metadata": {},
     "output_type": "execute_result"
    }
   ],
   "source": [
    "np.sqrt(maxp23)"
   ]
  },
  {
   "cell_type": "code",
   "execution_count": 12,
   "id": "8825c029-9a5b-43bd-8d94-927ef77246df",
   "metadata": {},
   "outputs": [
    {
     "name": "stdout",
     "output_type": "stream",
     "text": [
      "i 1738 p23 14929 p^2 222875041 maxp23 223092827 lambda 0.3880\n"
     ]
    }
   ],
   "source": [
    "# bounds on parameters for cG23\n",
    "i=0\n",
    "while (primes23[i] < 14936):\n",
    "    i += 1\n",
    "i -= 1\n",
    "print(f\"i {i} p23 {primes23[i]} p^2 {primes23[i]**2} maxp23 {primes23[-1]} lambda {lambda23[i-2]:.4f}\")"
   ]
  },
  {
   "cell_type": "code",
   "execution_count": 13,
   "id": "4d1ce534-479c-4d3b-a5c4-cce4bad1b311",
   "metadata": {},
   "outputs": [
    {
     "name": "stdout",
     "output_type": "stream",
     "text": [
      "i 7863 p23 80429 p^2 6468824041 maxp23 223092827 lambda 0.3304\n"
     ]
    }
   ],
   "source": [
    "# bounds on parameters for cG29\n",
    "pbound = np.sqrt(29)*14936\n",
    "i=0\n",
    "while (primes23[i] < pbound):\n",
    "    i += 1\n",
    "i -= 1\n",
    "print(f\"i {i} p23 {primes23[i]} p^2 {primes23[i]**2} maxp23 {primes23[-1]} lambda {lambda23[i-2]:.4f}\")"
   ]
  },
  {
   "cell_type": "markdown",
   "id": "d77e273f-1c69-4d75-b2e2-da291236bbc0",
   "metadata": {},
   "source": [
    "## Estimates from the models $w_g(p^\\#)=w_g(\\lambda)$\n",
    "Here we prepare estimates of the expected counts of gaps, based on the models $w_g(p^\\#)$.  The graph below will superimpose these estimates on the actual counts over sampled intervals of survival $\\Delta H(p_k)$.\n",
    "\n",
    "The hypothesis underlying our estimates is that the gaps in $\\mathcal{G}(p^\\#)$ are roughly distributed uniformly across the cycle.\n",
    "\n",
    "The first-order estimate is simply that the number of gaps in an interval of survival should be proportional to\n",
    "that gap's relative population at that point in the sieve:\n",
    "$$ n_g (\\Delta H) / n_2(\\Delta H) \\; \\approx \\; w_{g,1}(\\lambda)$$\n",
    "\n",
    "A second-order improvement can be made, by noting that in the horizon of survival $[q,q^2]$,\n",
    "the gaps in the interval $[q,p^2]$ for $p < q$ were fixed by previous recursions across the cycles, \n",
    "and that especially those gaps to the left of this interval will reflect the distributions \n",
    "from much earlier in the evolution.\n",
    "$$ n_g(\\Delta H(q)) / n_2(\\Delta H(q)) \\; \\approx \\; w_{g,1}(q^\\#) + \\frac{p^2}{q^2-p^2} \\Delta w$$\n"
   ]
  },
  {
   "cell_type": "code",
   "execution_count": 14,
   "id": "525858d0-93b1-4277-a1bd-5601b8d1b9f6",
   "metadata": {},
   "outputs": [
    {
     "data": {
      "text/plain": [
       "array([[ 1.        ,  1.        ,  2.        ,  1.        ,  1.33333333],\n",
       "       [-0.        , -0.        , -0.6513022 , -0.6513022 , -0.9769533 ],\n",
       "       [ 0.        ,  0.        ,  0.        ,  0.07157346,  0.14314691]])"
      ]
     },
     "execution_count": 14,
     "metadata": {},
     "output_type": "execute_result"
    }
   ],
   "source": [
    "# The matrix of coefficients lj is created in the '02' notebook.  Here we read the result from file.\n",
    "# These coefficients include the alternating signs\n",
    "ljmat = np.load('lj37.npy')\n",
    "ljmat.shape\n",
    "ljmat[0:3,0:5]"
   ]
  },
  {
   "cell_type": "code",
   "execution_count": 15,
   "id": "d03ff4b4-ba6f-4d95-b2f8-33cdd218f455",
   "metadata": {},
   "outputs": [
    {
     "data": {
      "text/plain": [
       "(19, 41)"
      ]
     },
     "execution_count": 15,
     "metadata": {},
     "output_type": "execute_result"
    }
   ],
   "source": [
    "ljmat.shape"
   ]
  },
  {
   "cell_type": "markdown",
   "id": "7becb127-8d15-411f-ba53-ec1b2ece5a9b",
   "metadata": {},
   "source": [
    "## Accumulations over intervals $\\Delta H(p)$\n",
    "For comparison with the relative populations $w_{g,1}(p^\\#)$, we accumulate the counts of gaps within the intervals of survival $\\Delta H(p) = [p^2, q^2]$."
   ]
  },
  {
   "cell_type": "code",
   "execution_count": 19,
   "id": "83bb6303-be3e-4702-9251-667fe6ae2a4d",
   "metadata": {},
   "outputs": [
    {
     "name": "stdout",
     "output_type": "stream",
     "text": [
      "array created 1738 x 124\n"
     ]
    }
   ],
   "source": [
    "ninterval = 1738 # max prime index for cG23\n",
    "ngaps = int(maxgap/2)\n",
    "DelHcounts = np.zeros((ninterval, ngaps), dtype=int)\n",
    "print(f\"array created {ninterval} x {ngaps}\")"
   ]
  },
  {
   "cell_type": "code",
   "execution_count": 20,
   "id": "30b46cba-d3af-4c2d-8fe5-4b58b2bb7624",
   "metadata": {},
   "outputs": [
    {
     "name": "stdout",
     "output_type": "stream",
     "text": [
      "ip 1737 of 1738 p= 14923 at i 12262909"
     ]
    }
   ],
   "source": [
    "# NOTE on indexing:  cG23[i] = primes23[i]-primes23[i-1]\n",
    "ip = 0\n",
    "p = primes23[ip]\n",
    "psqr = p*p\n",
    "i = 0\n",
    "while (primes23[i] < psqr):\n",
    "    i +=1\n",
    "# We're ready to start the count - i is pointing at the first gap in the first interval\n",
    "while (ip < ninterval):\n",
    "    print(f\"ip {ip} of {ninterval} p= {primes23[ip]} at i {i}\", end='\\r')\n",
    "    psqr = (primes23[ip+1])**2\n",
    "    while (primes23[i] < psqr):\n",
    "        j = int(cG23[i]/2 - 1)  # indices are half the value of the gap\n",
    "        DelHcounts[ip,j] = DelHcounts[ip,j] + 1\n",
    "        i += 1\n",
    "    ip += 1\n",
    "# Counts of DelH completed over the covered range, from p=29 to p=14929\n"
   ]
  },
  {
   "cell_type": "code",
   "execution_count": 21,
   "id": "1c6619b0-3996-4c4c-b5df-90845616db00",
   "metadata": {},
   "outputs": [
    {
     "data": {
      "text/plain": [
       "array([[ 412,  432,  753,  327,  400,  504,  314,  243,  420,  233],\n",
       "       [1278, 1272, 2217, 1011, 1273, 1676,  877,  670, 1302,  680],\n",
       "       [ 879,  845, 1520,  674,  885, 1082,  605,  425,  862,  408],\n",
       "       [1647, 1753, 2976, 1327, 1735, 2221, 1255,  906, 1649,  889],\n",
       "       [ 216,  225,  357,  158,  209,  280,  158,  113,  222,  112],\n",
       "       [1090, 1055, 1899,  796, 1073, 1358,  757,  582, 1086,  556],\n",
       "       [ 854,  821, 1577,  661,  840, 1084,  553,  480,  805,  451],\n",
       "       [ 438,  428,  757,  326,  425,  577,  292,  253,  368,  225],\n",
       "       [ 636,  644, 1104,  521,  665,  786,  481,  350,  638,  333],\n",
       "       [2768, 2804, 4911, 2174, 2839, 3509, 2022, 1551, 2707, 1471]])"
      ]
     },
     "execution_count": 21,
     "metadata": {},
     "output_type": "execute_result"
    }
   ],
   "source": [
    "# visual checks on histogram data\n",
    "DelHcounts[-11:-1,0:10]"
   ]
  },
  {
   "cell_type": "code",
   "execution_count": 22,
   "id": "3a703b45-cb53-4bd5-b8ce-2634d5139e53",
   "metadata": {},
   "outputs": [
    {
     "data": {
      "text/plain": [
       "array([ 895223,  895902, 1575342,  688899,  888391, 1123493,  615227,\n",
       "        455120,  818700,  435767,  377389,  558733,  260987,  283355,\n",
       "        494297,  152949,  160426,  257558,  118599,  139438,  200812,\n",
       "         81339,   69001,  118137,   66068,   49069,   81284,   41034,\n",
       "         35534,   70642,   21417,   22202,   39803,   16013,   22638,\n",
       "         22275,   10993,    9399,   18051,    8834,    6265,   12858,\n",
       "          4509,    4594,    9254,    2981,    2698,    4697,    2438,\n",
       "          2542,    3210,    1573,    1235,    2185,    1276,     996,\n",
       "          1481,     608,     578,    1299,     390,     416,     718,\n",
       "           251,     297,     406,     165,     136,     294,     188,\n",
       "           115,     172,      67,      86,     150,      67,      57,\n",
       "            81,      33,      38,      42,      26,      15,      43,\n",
       "            22,      12,      14,      17,      14,      13,      10,\n",
       "             9,       5,       1,       1,       5,       2,       3,\n",
       "             6,       0,       2,       3,       0,       2,       4,\n",
       "             1,       0,       1,       0,       1,       2,       0,\n",
       "             0,       0,       0,       0,       1,       1,       0,\n",
       "             0,       0,       0,       0,       1])"
      ]
     },
     "execution_count": 22,
     "metadata": {},
     "output_type": "execute_result"
    }
   ],
   "source": [
    "# visual checks on histogram data\n",
    "sum(DelHcounts[:,])"
   ]
  },
  {
   "cell_type": "code",
   "execution_count": 23,
   "id": "1e28e9dd-0c9a-4550-89fd-85690ec1e94a",
   "metadata": {},
   "outputs": [],
   "source": [
    "# Develop a master color dictionary - up to g=100\n",
    "# we set colors by family, as determined by prime factors of the gap\n",
    "mastercolordict={'2':'#FF0000', '4':'#FF8888', '8':'#EEBBBB', '16':'#FF99CC', '32':'#FFDDDD', '64':'#FFEEEE',\n",
    "                 '6':'#0000FF', '12':'#00DDFF', '18':'#6666FF', '24':'#BBBBFF', '36':'#DDDDFF', '48':'#0000AF',\n",
    "                 '54':'#44448F', '72':'#88888F',\n",
    "                 '10':'#00CC00', '20':'#98FB98', '40':'#DDFFCF', '50':'#BBFFBB', '80':'#44AA66', '100':'#228F3F',\n",
    "                 '30':'#FFD700', '60':'#FFB000', '90':'#FFCC33',\n",
    "                 '14':'#DD00EE', '28':'#AA22CC', '56':'#660066', '98':'#662266',\n",
    "                 '42':'#0088BB', '84':'#4488BB', '70':'#00BB88', \n",
    "                 '22':'#884400', '44':'#884444', '66':'#884488', '88':'#AA6644',\n",
    "                 '26':'#AAAAAA', '52':'#888888', '78':'#6666AA',\n",
    "                 '34':'#CC0000', '68':'#CC4444', '38':'#AA8800', '76':'#AA9944'}"
   ]
  },
  {
   "cell_type": "code",
   "execution_count": 24,
   "id": "d22f71bc-f8fd-4cb0-a3f5-344843dcc9ba",
   "metadata": {},
   "outputs": [],
   "source": [
    "gapnames = np.arange(2, maxgap+2, 2)"
   ]
  },
  {
   "cell_type": "code",
   "execution_count": 25,
   "id": "a0675836-0b70-47d6-9bde-e8cfeb8d3123",
   "metadata": {},
   "outputs": [
    {
     "name": "stdout",
     "output_type": "stream",
     "text": [
      "max 1738 14929\n"
     ]
    }
   ],
   "source": [
    "print(f\"max {ninterval} {primes23[ninterval]}\")"
   ]
  },
  {
   "cell_type": "code",
   "execution_count": 40,
   "id": "41505119-2b51-4aaf-93a0-6c05fed96e23",
   "metadata": {},
   "outputs": [
    {
     "data": {
      "application/vnd.jupyter.widget-view+json": {
       "model_id": "5668da0c99114aebb25fead928b30fc7",
       "version_major": 2,
       "version_minor": 0
      },
      "text/plain": [
       "interactive(children=(IntSlider(value=25, description='Num DelH', layout=Layout(width='80%'), min=1), IntSlide…"
      ]
     },
     "metadata": {},
     "output_type": "display_data"
    },
    {
     "data": {
      "text/plain": [
       "<function __main__.draw_DelH(numpdex, highpdex, drawestimates)>"
      ]
     },
     "execution_count": 40,
     "metadata": {},
     "output_type": "execute_result"
    }
   ],
   "source": [
    "# Interactive display of a sample from the intervals of survival DelHcounts\n",
    "# The master array DelHcounts is nintervals x gaps\n",
    "lowgapdex = 0\n",
    "highgapdex = 45  # the gap index is half the gap size:  gap = 2*(gapdex+1)\n",
    "gaprange = (gapnames[lowgapdex:highgapdex]).astype(str)\n",
    "\n",
    "def draw_DelH(numpdex, highpdex, drawestimates):   # the input parameters are indices, not the x values themselves\n",
    "    if (highpdex < numpdex):\n",
    "        numpdex = highpdex-1\n",
    "    lowpdex = highpdex-numpdex\n",
    "    primerange = (primes23[lowpdex:highpdex]).astype(str)\n",
    "    partialDelHcounts = DelHcounts[lowpdex:highpdex, lowgapdex:highgapdex].copy()\n",
    "\n",
    "    df = pd.DataFrame(partialDelHcounts, index=primerange, columns=gaprange)\n",
    "    df = df.transpose()    # preparing to display by size of gap\n",
    "\n",
    "    # create the color dictionary, using gapsizes in primes23 from lowpdex to highpdex\n",
    "    i = lowpdex\n",
    "    colordict = {}\n",
    "    while (i <= highpdex):\n",
    "        pstring = str(primes23[i])\n",
    "        gapstring = str(cG23[i+1])  # cG23[i] = primes23[i]-primes[i-1]\n",
    "        if gapstring in mastercolordict:\n",
    "            colorstring = mastercolordict[gapstring]\n",
    "        else:\n",
    "            print(f\"Missing color for {gapstring} at {pstring}\")\n",
    "            colorstring = '#080808'\n",
    "        colordict[pstring] = colorstring\n",
    "        i += 1\n",
    "\n",
    "    plt.clf()\n",
    "    fig, ax = plt.subplots()\n",
    "    fig.set_size_inches(12,8)\n",
    "    # add a title to the plot\n",
    "    middex = int((highpdex+lowpdex)/2)\n",
    "    lamvalue = lambda23[middex]\n",
    "    ptitle = (primes23[middex])**2\n",
    "    ax.set_title(f\"Populations of prime gaps in {numpdex} intervals of survival around {ptitle:.3e}, $\\lambda=$ {lamvalue:.3f}\")\n",
    "\n",
    "    # create histogram of counts over intervals of survival\n",
    "    ax2 = df.plot(kind='bar', stacked='True', ylabel='Counts', ax=ax, color=colordict)\n",
    "    # reversing the order of the legend, to be decreasing\n",
    "    handles, labels = ax.get_legend_handles_labels()\n",
    "    ax.legend(handles[::-1], labels[::-1], ncol=int(1+numpdex/28))\n",
    "\n",
    "    # add polyline showing expected values\n",
    "    if (drawestimates):\n",
    "        xvals = np.arange(41)\n",
    "        estvals = np.zeros(41)\n",
    "        scalefactor = sum(partialDelHcounts[:,0])\n",
    "#    print(f\"midp {primes23[middex]} lambda {lamvalue} scale {scalefactor}\")\n",
    "        i=0\n",
    "        while (i < 41):\n",
    "            estvals[i]  = scalefactor*polyval(lamvalue, ljmat[:,i])\n",
    "            i += 1\n",
    "        ax2.plot(xvals,estvals, color='#402040', lw=1, marker=\"^\")\n",
    "        # second-order estimate\n",
    "        estvalsB = np.zeros(41)\n",
    "        i=0\n",
    "        while (i < 41):\n",
    "            estvalsB[i] = scalefactor*polyval(lambda23[highpdex],ljmat[:,i])\n",
    "            deltaw = polyval(lambda23[highpdex],ljmat[:,i])-polyval(lambda23[lowpdex],ljmat[:,i])\n",
    "            estvalsB[i] = estvalsB[i] + scalefactor * (deltaw)/((primes23[highpdex]/primes23[lowpdex])**2 - 1)\n",
    "            i += 1\n",
    "        ax2.plot(xvals, estvalsB, color='#804080', lw=1.25, marker=\"^\")\n",
    "    \n",
    "    plt.show()\n",
    "\n",
    "\n",
    "xnumpSelect = widgets.IntSlider(min=1, max=100, step=1, value=25,\n",
    "                  description=\"Num DelH\", layout=widgets.Layout(width='80%'), disabled=False)\n",
    "xhighpSelect = widgets.IntSlider(min=1, max=1737, step=1, value=1737, description=\"High_pdex\", layout=widgets.Layout(width='80%'), disabled=False)\n",
    "estimatesSelect = widgets.Checkbox(value=True, description='Estimates') \n",
    "\n",
    "interact(draw_DelH, numpdex=xnumpSelect, highpdex=xhighpSelect, drawestimates=estimatesSelect)\n",
    "\n"
   ]
  },
  {
   "cell_type": "markdown",
   "id": "5c774509-635a-4b1e-875d-4298034f803c",
   "metadata": {},
   "source": [
    "## Intervals of Survival $\\Delta H(p)$\n",
    "The interactive figure above displays the aggregation of gaps among primes by size of gap, across consecutive intervals of survival $\\Delta H(p_k) = [p_k^2, p_{k+1}^2]$.\n",
    "\n",
    "The aggregations of gaps within a single interval $\\Delta H(p_k)$ appear as a colored band within the total displayed aggregation.  We color-code the band for $\\Delta H(p_k)$ by the size of the gap $p_{k+1}-p_k$.\n",
    "\n",
    "Two estimated levels from the models $w_g(\\lambda)$ can be displayed:  the first-order and second-order estimates\n",
    "based on an hypothesis of uniform distribution."
   ]
  },
  {
   "cell_type": "code",
   "execution_count": null,
   "id": "4b67a5fe-a447-4415-a4fa-c073c6767e5b",
   "metadata": {},
   "outputs": [],
   "source": []
  }
 ],
 "metadata": {
  "kernelspec": {
   "display_name": "Python 3 (ipykernel)",
   "language": "python",
   "name": "python3"
  },
  "language_info": {
   "codemirror_mode": {
    "name": "ipython",
    "version": 3
   },
   "file_extension": ".py",
   "mimetype": "text/x-python",
   "name": "python",
   "nbconvert_exporter": "python",
   "pygments_lexer": "ipython3",
   "version": "3.11.5"
  }
 },
 "nbformat": 4,
 "nbformat_minor": 5
}
