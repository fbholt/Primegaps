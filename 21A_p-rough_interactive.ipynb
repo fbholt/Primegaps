{
 "cells": [
  {
   "cell_type": "markdown",
   "id": "b601f44d-1cc6-4297-9f07-25500719238c",
   "metadata": {},
   "source": [
    "# Studying counts of p-rough numbers $\\Phi(x,p)$\n",
    "\n",
    "The p-rough numbers are the numbers all of whose prime factors are greater than the prime $p$.  The unit $1$ is included as a $p$-rough\n",
    "number for all primes $p$.\n",
    "\n",
    "The cycle of gaps $\\mathcal{G}(p^\\#)$ are exactly the gaps between the $p$-rough numbers.\n",
    "\n",
    "The count of $p$-rough numbers up through $x$ is denoted $\\Phi(x,p)$.\n",
    "\n",
    "From the cycle $\\mathcal{G}(p^\\#)$ we know that\n",
    "- $\\Phi(x + p^\\#, p) = \\Phi(x,p) + \\phi(p^\\#)$\n",
    "- $\\Phi(k \\cdot p^\\#, p) = k\\cdot \\phi(p^\\#)$\n",
    "- $\\Phi((k+\\frac{1}{2}) \\cdot p^\\#, p) = (k+\\frac{1}{2}) \\cdot \\phi(p^\\#)$\n",
    "\n",
    "Thus the graph of $\\Phi(x,p)$ has a line of symmetry\n",
    "$$ \\tilde{\\Phi}(x) = \\frac{\\phi(p^\\#)}{p^\\#} x = \\frac{1}{\\mu} x $$\n",
    "where $\\mu = \\frac{p^\\#}{\\phi(p^\\#)}$ is the mean size of the gaps in\n",
    "$\\mathcal{G}(p^\\#)$.\n",
    "\n",
    "There is a simplicity in working with \n",
    "$$ \\Delta \\Phi(x,p) = \\Phi(x,p) - \\frac{1}{\\mu} x$$\n",
    "This measures the deviation of $\\Phi(x,p)$ around its line of symmetry.\n",
    "The symmetries above become\n",
    "- $\\Delta \\Phi(x + p^\\#, p) = \\Delta \\Phi(x,p)$\n",
    "- $\\Delta \\Phi(k \\cdot p^\\#, p) = 0$\n",
    "- $\\Delta \\Phi((k+\\frac{1}{2}) \\cdot p^\\#, p) = 0$\n",
    "- $\\Delta \\Phi(p^\\# -x , p) = -\\Delta \\Phi(x , p)$\n",
    "\n",
    "The deviations of the $p$-rough numbers from their line of symmetry\n",
    "$$\\tilde{\\Phi} = \\frac{1}{\\mu}x$$ \n",
    "are periodic and bounded.  Thus the behavior of $\\Phi(x,p)$ is completely described by the behavior of $\\Delta \\Phi(x,p)$\n",
    "over the first cycle $\\mathcal{G}(p^\\#)$, or using the rotational symmetry around $x=1+\\frac{p^\\#}{2}$ over the first\n",
    "half of this cycle.\n"
   ]
  },
  {
   "cell_type": "code",
   "execution_count": 1,
   "id": "ce351fb1-cbc3-4b15-834b-4ebef2bd8a6d",
   "metadata": {},
   "outputs": [],
   "source": [
    "%reset -f\n",
    "\n",
    "# This version uses pandas & matplotlib to provide interactive graphics\n",
    "import pandas as pd\n",
    "import numpy as np\n",
    "import array\n",
    "import itertools\n",
    "import matplotlib\n",
    "%matplotlib inline\n",
    "# matplotlib.use(\"nbagg\")\n",
    "\n",
    "import matplotlib.pyplot as plt\n",
    "from ipywidgets import interact\n",
    "import ipywidgets as widgets\n",
    "from IPython.display import display\n",
    "plt.ion\n",
    "\n",
    "import gc\n",
    "import psutil\n",
    "import sys"
   ]
  },
  {
   "cell_type": "markdown",
   "id": "67b8173e-7cda-4a46-ad59-c56ead6c288d",
   "metadata": {},
   "source": [
    "The array DelPhi contains the lower points on the vertical segments for $\\Delta \\Phi(x,p)$.  The upper points on these segments are (DelPhi+1)"
   ]
  },
  {
   "cell_type": "code",
   "execution_count": 29,
   "id": "a63e05a1-518c-47db-8458-46f34a379034",
   "metadata": {},
   "outputs": [
    {
     "data": {
      "text/plain": [
       "'\\n# code to build up the DelPhi array -- now saved to file \\'DelPhi29.npy\\'\\nDiffDelPhi = np.zeros(lenG, dtype=float)\\ni=0\\nwhile (i < lenG):\\n    DiffDelPhi[i] = mu_recip * G29[i]\\n    if ((i % 50000000) == 0):\\n        print(i, G29[i], DiffDelPhi[i], end=\\'\\r\\')\\n    i += 1\\nDiffDelPhi = np.insert(DiffDelPhi, 0, mu_recip)\\nDelPhi = np.cumsum(DiffDelPhi)\\nnp.save(\"DelPhi29.npy\", DelPhiB)\\n'"
      ]
     },
     "execution_count": 29,
     "metadata": {},
     "output_type": "execute_result"
    }
   ],
   "source": [
    "\"\"\"\n",
    "# code to build up the DelPhi array -- now saved to file 'DelPhi29.npy'\n",
    "DiffDelPhi = np.zeros(lenG, dtype=float)\n",
    "i=0\n",
    "while (i < lenG):\n",
    "    DiffDelPhi[i] = mu_recip * G29[i]\n",
    "    if ((i % 50000000) == 0):\n",
    "        print(i, G29[i], DiffDelPhi[i], end='\\r')\n",
    "    i += 1\n",
    "DiffDelPhi = np.insert(DiffDelPhi, 0, mu_recip)\n",
    "DelPhi = np.cumsum(DiffDelPhi)\n",
    "np.save(\"DelPhi29.npy\", DelPhiB)\n",
    "\"\"\""
   ]
  },
  {
   "cell_type": "code",
   "execution_count": 2,
   "id": "d2588f5b-9331-4f13-a4e8-adb15035d91f",
   "metadata": {},
   "outputs": [],
   "source": [
    "# retrieve data from files and print sizes & lengths\n",
    "G29 = np.load('G29uint.npy')\n",
    "DelPhi = np.load('DelPhi29.npy')  # DelPhi contains the lower points on the vertical segments"
   ]
  },
  {
   "cell_type": "code",
   "execution_count": 3,
   "id": "6ab3d572-ad86-4d70-af9c-5ae7afaa8ef1",
   "metadata": {},
   "outputs": [
    {
     "name": "stdout",
     "output_type": "stream",
     "text": [
      "G29 is 1949.063 MB, length 1021870080\n"
     ]
    }
   ],
   "source": [
    "print(f\"G29 is {sys.getsizeof(G29)/(1024**2) :.3f} MB, length {len(G29)}\")"
   ]
  },
  {
   "cell_type": "code",
   "execution_count": 4,
   "id": "b85652be-6897-454f-a025-2aa12d0bc4f8",
   "metadata": {},
   "outputs": [
    {
     "name": "stdout",
     "output_type": "stream",
     "text": [
      "DelPhi is 7796.250 MB, length 1021870081\n"
     ]
    }
   ],
   "source": [
    "print(f\"DelPhi is {sys.getsizeof(DelPhi)/(1024**2) :.3f} MB, length {len(DelPhi)}\")"
   ]
  },
  {
   "cell_type": "code",
   "execution_count": 25,
   "id": "b2ebf5f0-4423-46a7-8fab-3df1dc190ab3",
   "metadata": {},
   "outputs": [
    {
     "name": "stdout",
     "output_type": "stream",
     "text": [
      "Available memory: 2953.30 MB\n"
     ]
    }
   ],
   "source": [
    "# block to check the available system memory\n",
    "gc.collect()\n",
    "memory = psutil.virtual_memory()\n",
    "available_memory = memory.available\n",
    "del memory\n",
    "print(f\"Available memory: {available_memory / (1024 ** 2):.2f} MB\")"
   ]
  },
  {
   "cell_type": "code",
   "execution_count": 6,
   "id": "b1075f50-90b1-474e-9dd4-7241936f26f2",
   "metadata": {},
   "outputs": [],
   "source": [
    "lenG = len(G29)"
   ]
  },
  {
   "cell_type": "code",
   "execution_count": 7,
   "id": "72db7cf8-2ba6-4f75-8a20-9e0752fa9566",
   "metadata": {},
   "outputs": [
    {
     "name": "stdout",
     "output_type": "stream",
     "text": [
      "mu 6.33122875072338 neg reciprocal (slope) -0.15794722310195222\n"
     ]
    }
   ],
   "source": [
    "# average gap size for G(29#)\n",
    "mu_gap = (29/28)*(23/22)*(19/18)*(17/16)*(13/12)*(11/10)*(210/48)\n",
    "mu_recip = -1/mu_gap\n",
    "print(\"mu\",mu_gap, \"neg reciprocal (slope)\", mu_recip)"
   ]
  },
  {
   "cell_type": "code",
   "execution_count": 8,
   "id": "ce09f140-a7a9-41d0-abf1-0384dd834b63",
   "metadata": {},
   "outputs": [
    {
     "data": {
      "text/plain": [
       "array([-0.15794722, -3.89636392, -3.84404725, -3.47583615, -2.79173059,\n",
       "       -2.42351949, -2.37120282, -2.31888616, -1.63478061, -1.58246395,\n",
       "       -1.21425284, -0.53014729, -0.47783063, -0.10961952, -0.05730286,\n",
       "       -0.32088064,  0.04733047,  0.73143602,  1.09964713,  1.78375268])"
      ]
     },
     "execution_count": 8,
     "metadata": {},
     "output_type": "execute_result"
    }
   ],
   "source": [
    "DelPhi[0:20]"
   ]
  },
  {
   "cell_type": "code",
   "execution_count": 9,
   "id": "a028fe5e-145b-41c7-a498-a8fa2a68b538",
   "metadata": {},
   "outputs": [
    {
     "data": {
      "text/plain": [
       "np.float64(19.91277999178553)"
      ]
     },
     "execution_count": 9,
     "metadata": {},
     "output_type": "execute_result"
    }
   ],
   "source": [
    "max(DelPhi)"
   ]
  },
  {
   "cell_type": "code",
   "execution_count": 10,
   "id": "994dd157-478c-447c-ae3c-4afc4fbaaeae",
   "metadata": {},
   "outputs": [
    {
     "data": {
      "text/plain": [
       "(array([167215228]),)"
      ]
     },
     "execution_count": 10,
     "metadata": {},
     "output_type": "execute_result"
    }
   ],
   "source": [
    "np.where(DelPhi > 19.9)"
   ]
  },
  {
   "cell_type": "code",
   "execution_count": 11,
   "id": "631fa4fd-6d6a-44a7-a627-bd2b81fef940",
   "metadata": {},
   "outputs": [
    {
     "data": {
      "text/plain": [
       "array([ 6,  4,  2, 10,  2, 10,  2,  4,  6,  6,  8,  6,  4,  6,  6,  8,  4,\n",
       "        2,  6, 10,  8,  4,  2, 10,  8,  6,  4,  6,  2,  4,  6, 14,  4,  2,\n",
       "       10,  2, 10,  2,  4,  2, 10,  2, 12,  4,  2,  4,  8,  6,  4,  6,  6,\n",
       "        6,  2,  6,  4,  8, 10,  8,  4,  2,  6,  4,  8,  6, 10,  6,  6,  2,\n",
       "        6, 10,  2,  4,  8,  6,  4,  2,  4, 12, 12,  8,  4,  8, 10,  2, 30,\n",
       "       16,  8,  4,  2,  4,  2,  4,  8, 16, 30,  2, 10,  8,  4,  8, 12, 12,\n",
       "        4,  2,  4,  6,  8,  4,  2, 10,  6,  2,  6,  6, 10,  6,  8,  4,  6,\n",
       "        2,  4,  8, 10,  8,  4,  6,  2,  6,  6,  6,  4,  6,  8,  4,  2,  4,\n",
       "       12,  2, 10,  2,  4,  2, 10,  2, 10,  2,  4, 14,  6,  4,  2,  6,  4,\n",
       "        6,  8, 10,  2,  4,  8, 10,  6,  2,  4,  8,  6,  6,  4,  6,  8,  6,\n",
       "        6,  4,  2, 10,  2, 10,  2,  4,  6,  6], dtype=uint16)"
      ]
     },
     "execution_count": 11,
     "metadata": {},
     "output_type": "execute_result"
    }
   ],
   "source": [
    "# view of the middle of the cycle G(29#)\n",
    "# gaps at mid-cycle\n",
    "G29[510934950:510935130]"
   ]
  },
  {
   "cell_type": "code",
   "execution_count": 12,
   "id": "a5eee652-170b-413e-a633-78e971043abb",
   "metadata": {},
   "outputs": [
    {
     "data": {
      "text/plain": [
       "array([ 4.58545571,  5.26956127,  5.63777237,  4.7424057 ,  3.84703902,\n",
       "        3.58346124,  3.95167234,  3.68809456,  3.10862233,  3.79272788,\n",
       "        0.05431119, -1.47284438, -1.73642217, -1.36821106, -0.68410551,\n",
       "       -0.3158944 ,  0.36821116,  0.73642226,  0.47284448, -1.05431109,\n",
       "       -4.79272778, -4.10862223, -4.68809446, -4.95167225, -4.58346114,\n",
       "       -4.84703892, -5.7424056 , -6.63777228, -6.26956117, -5.58545562])"
      ]
     },
     "execution_count": 12,
     "metadata": {},
     "output_type": "execute_result"
    }
   ],
   "source": [
    "# Delta-Phi values on the left side of mid-cycle\n",
    "DelPhi[510935025:510935055]"
   ]
  },
  {
   "cell_type": "code",
   "execution_count": 13,
   "id": "de107141-e83a-42ad-af8d-bcfa639dae20",
   "metadata": {},
   "outputs": [],
   "source": [
    "def interleave_np(arr1, arr2):\n",
    "    stacked_arr = np.stack((arr1, arr2),axis=1)\n",
    "    return stacked_arr.flatten().tolist()"
   ]
  },
  {
   "cell_type": "code",
   "execution_count": 14,
   "id": "f0fe2484-7208-4040-8604-b51c0b2483a8",
   "metadata": {},
   "outputs": [
    {
     "data": {
      "text/plain": [
       "array([ 6,  8,  6,  6,  4, 14, 10,  2,  4,  6,  6,  2,  6,  4,  2, 10,  6,\n",
       "       14,  6,  4,  6, 20, 12,  6,  4,  6,  2,  4,  8, 12,  4,  6,  8,  6,\n",
       "        4,  2,  4, 12,  2, 10, 12,  6,  2,  6,  4,  6,  6,  6,  8,  4,  2,\n",
       "       16,  8,  6,  4,  2,  4, 18,  6,  2,  4,  6,  2,  6, 12, 10,  2,  6,\n",
       "        4, 18, 12,  2,  4,  2, 10,  2,  6,  6,  4,  6,  6,  2, 10,  2,  6,\n",
       "        4, 14,  6,  4,  2,  4,  8,  6,  4,  6,  6,  6,  2, 12,  4,  2,  4,\n",
       "        6,  2,  6, 22,  2, 16,  2,  4,  8,  6,  4,  6,  6,  6,  2,  6,  4,\n",
       "        2,  6, 10,  8,  4,  2,  4,  2,  4, 14,  4], dtype=uint16)"
      ]
     },
     "execution_count": 14,
     "metadata": {},
     "output_type": "execute_result"
    }
   ],
   "source": [
    "G29[167215100:167215230]"
   ]
  },
  {
   "cell_type": "code",
   "execution_count": 15,
   "id": "3428cc51-603f-4c5b-9628-3c5d45c207e0",
   "metadata": {},
   "outputs": [
    {
     "data": {
      "text/plain": [
       "np.float64(6.184615384615385)"
      ]
     },
     "execution_count": 15,
     "metadata": {},
     "output_type": "execute_result"
    }
   ],
   "source": [
    "np.mean(G29[167215100:167215230])"
   ]
  },
  {
   "cell_type": "code",
   "execution_count": 41,
   "id": "8f89bad4-7072-4299-9307-40c7e79c3c51",
   "metadata": {},
   "outputs": [],
   "source": [
    "# function for rolling averages\n",
    "def rolling_avg(arr, wlen):\n",
    "    lenAvg = len(arr)-wlen+1\n",
    "    Avg_array = np.zeros(lenAvg, dtype=float)\n",
    "    Avg_array[0] = sum(arr[0:wlen]) / wlen\n",
    "    i=1\n",
    "    while (i < lenAvg):\n",
    "        Avg_array[i] = Avg_array[i-1] - arr[i-1]/wlen + arr[i+wlen-1]/wlen\n",
    "        i += 1\n",
    "    return Avg_array"
   ]
  },
  {
   "cell_type": "code",
   "execution_count": 18,
   "id": "1de9be38-d835-4d60-bfac-2a306fa6d099",
   "metadata": {},
   "outputs": [
    {
     "data": {
      "text/plain": [
       "array([6, 6, 2, ..., 4, 6, 6], shape=(1130,), dtype=uint16)"
      ]
     },
     "execution_count": 18,
     "metadata": {},
     "output_type": "execute_result"
    }
   ],
   "source": [
    "G29[510934000:510935130]"
   ]
  },
  {
   "cell_type": "code",
   "execution_count": 19,
   "id": "2d18c884-7a4d-4260-9371-7ba83132481d",
   "metadata": {},
   "outputs": [
    {
     "data": {
      "text/plain": [
       "np.float64(18.481436872522778)"
      ]
     },
     "execution_count": 19,
     "metadata": {},
     "output_type": "execute_result"
    }
   ],
   "source": [
    "max(DelPhi[510930000:510935130])"
   ]
  },
  {
   "cell_type": "code",
   "execution_count": 20,
   "id": "7547e39f-9725-4bfa-a563-d3c370ab3783",
   "metadata": {},
   "outputs": [
    {
     "data": {
      "text/plain": [
       "np.float64(-13.492175392551637)"
      ]
     },
     "execution_count": 20,
     "metadata": {},
     "output_type": "execute_result"
    }
   ],
   "source": [
    "min(DelPhi[510930000:510935130])"
   ]
  },
  {
   "cell_type": "code",
   "execution_count": 45,
   "id": "932cb166-88bc-44f9-9950-df59db23c3ea",
   "metadata": {},
   "outputs": [],
   "source": [
    "peaks = np.where(DelPhi > 17)\n",
    "try:\n",
    "    del(featurepts)\n",
    "except NameError:\n",
    "    i=0\n",
    "\n",
    "midlenG = int(lenG/2)\n",
    "i=0\n",
    "j=0\n",
    "featurepts = {'midcycle' : midlenG}\n",
    "featurepts['1/29 cycle'] = int(midlenG/29)\n",
    "featurepts['4/28 cycle'] = int(midlenG/7)\n",
    "featurepts['8/29 cycle'] = int((8/29)* midlenG)\n",
    "featurepts['12/29 cycle'] = int((12/29)*midlenG)\n",
    "featurepts['max peak'] = 167215228\n",
    "\n",
    "while(i < len(peaks[0])):\n",
    "    val = peaks[0][i]\n",
    "    lowval = val\n",
    "    highval = val\n",
    "    while ((i < len(peaks[0])) and (peaks[0][i] < (val+5000))):\n",
    "        highval = peaks[0][i]\n",
    "        i += 1\n",
    "    featurepts[f\"peaks {j}\"] = int((lowval+highval)/2)\n",
    "    j += 1\n",
    "   "
   ]
  },
  {
   "cell_type": "code",
   "execution_count": 47,
   "id": "4f4f73d9-43db-4092-825c-25c165954e3e",
   "metadata": {},
   "outputs": [
    {
     "data": {
      "application/vnd.jupyter.widget-view+json": {
       "model_id": "825e6b0747ff4a56a8427bcc25a8f362",
       "version_major": 2,
       "version_minor": 0
      },
      "text/plain": [
       "interactive(children=(IntSlider(value=510935040, description='Midpt view', layout=Layout(width='95%'), max=102…"
      ]
     },
     "metadata": {},
     "output_type": "display_data"
    },
    {
     "data": {
      "text/plain": [
       "<function __main__.draw_DelPhi(xselmid, xaltmid, xwidth, xavgwindow)>"
      ]
     },
     "execution_count": 47,
     "metadata": {},
     "output_type": "execute_result"
    }
   ],
   "source": [
    "# create an interactive version of the plot\n",
    "\n",
    "minwidth = 100\n",
    "midlenG = int(lenG/2)\n",
    "old_altmid = midlenG\n",
    "\n",
    "def draw_DelPhi(xselmid, xaltmid, xwidth, xavgwindow):\n",
    "    # Interleaving data to get the stepped graph, rendering the vertical segments\n",
    "    global old_altmid\n",
    "    if (xaltmid != old_altmid):\n",
    "        xmid = xaltmid\n",
    "        old_altmid = xaltmid\n",
    "        xmidSelect.value = xaltmid\n",
    "    else:\n",
    "        xmid = xselmid\n",
    "    pts0 = xmid-xwidth\n",
    "    pts1 = xmid+xwidth\n",
    "    if (pts0 < 0):\n",
    "        ptshift = -pts0\n",
    "        pts0 = 0\n",
    "        pts1 = pts1+ptshift\n",
    "    elif (pts1 > lenG):\n",
    "        ptshift = pts1-lenG\n",
    "        pts0 = pts0-ptshift\n",
    "        pts1 = lenG\n",
    "    xmid = int((pts0+pts1)/2)\n",
    "    delx = np.cumsum(G29[pts0:pts1], dtype=float)\n",
    "#    print(f\"{pts0} x:{delx[0]} mid {xmid} end {pts1} x: {delx[-1]}\")\n",
    "    delphi = DelPhi[(pts0+1):(pts1+1)]\n",
    "    delxB = interleave_np(delx,delx)\n",
    "    delphiB = interleave_np(delphi,(delphi +1))\n",
    "    data_sample = {'x': delxB, 'DelPhi': delphiB}\n",
    "    df = pd.DataFrame(data_sample)\n",
    "\n",
    "    # calculate rolling average, to smooth the graph\n",
    "    halfwindow = int(xavgwindow/2)\n",
    "    avgp0 = pts0 - halfwindow\n",
    "    avgp1 = pts1 + halfwindow\n",
    "    if (avgp0 < 0):\n",
    "        avgp0 = 0\n",
    "        avgp1 += halfwindow\n",
    "    elif (avgp1 > lenG):\n",
    "        avgp1 = lenG\n",
    "        avgp0 -= halfwindow\n",
    "\n",
    "    delphiavg = np.array(DelPhi[avgp0:avgp1])\n",
    "    # DelPhi contains the lower pts on the vertical segments, we average the midpoints\n",
    "    delphiC = rolling_avg((delphiavg + 0.5), xavgwindow)\n",
    "#    print(f\"Avg wid {xavgwindow} sample {delphiC[0:5]} vs {delphiavg[0:5]}\")\n",
    "    delxC = np.cumsum(G29[(avgp0+halfwindow-1):(avgp1-halfwindow)])  \n",
    "    avgdata_sample = {'x': delxC, 'AvgDelPhi': delphiC}\n",
    "\n",
    "    avgdf = pd.DataFrame(avgdata_sample)\n",
    "\n",
    "    # plotting the two curves\n",
    "    plt.clf()\n",
    "    fig, ax = plt.subplots()\n",
    "    fig.set_size_inches(12,9)\n",
    "    ax.set_title(f\"$\\Delta \\Phi(29^\\#)$ and its rolling average around i={(pts0+pts1)/2:.0f}\")\n",
    "    ax.grid(axis='y', color='#080408', lw=0.125 )\n",
    "\n",
    "    if (xwidth < 600):\n",
    "        linecolor = '#1E90FF'\n",
    "        linewt = 0.25\n",
    "    elif (xwidth < 6000):\n",
    "        linecolor = '#87CEEB'\n",
    "        linewt = 0.125\n",
    "    else:\n",
    "        linecolor = '#87CEFA'\n",
    "        linewt = 0.125\n",
    "        \n",
    "    ax.plot(delxB, delphiB, color=linecolor, lw=linewt, label='DelPhi')\n",
    "    ax.plot(delxC, delphiC, color='#460099', lw=0.375, label='AvgDelPhi')\n",
    "    ax.set_ylim(-20,20)\n",
    "\n",
    "    plt.show()\n",
    "\n",
    "# widgets for selecting parameters for the graph Delta Phi(29#)\n",
    "xmidSelect = widgets.IntSlider(min=minwidth, max=(lenG-minwidth), step=616, value=midlenG,\n",
    "                  description=\"Midpt view\", layout=widgets.Layout(width='95%'), disabled=False)\n",
    "altxmidSelect = widgets.Dropdown(options=featurepts, value=featurepts['midcycle'], description=\"Feature pts\")\n",
    "xwidthSelect = widgets.SelectionSlider(options=[50,140,250,500,1200,2400,5000,7500,10000, 16000,24000,40000,80000], value=10000, description=\"Zoom\", layout=widgets.Layout(width='80%'), disabled=False)\n",
    "xavgwidSelect = widgets.SelectionSlider(options=[8,48,120,240,480, 960, 1440, 2880,5760],\n",
    "                                        value=48, description=\"Avg Base\", layout=widgets.Layout(width='40%'), disabled=False)\n",
    "\n",
    "interact(draw_DelPhi, xselmid=xmidSelect, xaltmid=altxmidSelect, xwidth=xwidthSelect, xavgwindow=xavgwidSelect)\n",
    "\n"
   ]
  },
  {
   "cell_type": "code",
   "execution_count": null,
   "id": "d0a79cf6-edf1-4954-ba7e-6748b0c468a1",
   "metadata": {},
   "outputs": [],
   "source": []
  }
 ],
 "metadata": {
  "kernelspec": {
   "display_name": "Python 3 (ipykernel)",
   "language": "python",
   "name": "python3"
  },
  "language_info": {
   "codemirror_mode": {
    "name": "ipython",
    "version": 3
   },
   "file_extension": ".py",
   "mimetype": "text/x-python",
   "name": "python",
   "nbconvert_exporter": "python",
   "pygments_lexer": "ipython3",
   "version": "3.11.5"
  }
 },
 "nbformat": 4,
 "nbformat_minor": 5
}
