{
 "cells": [
  {
   "cell_type": "markdown",
   "id": "542dac8d-5d61-49ff-ad41-59b7f9e563f1",
   "metadata": {},
   "source": [
    "# Calculating quadratic density $\\eta(p_k)$ from $\\Delta H(p)$\n",
    "The range of the primes in $\\mathcal{G}(23^\\#)$ is almost covered by the horizon of survival $H(p_k)= [p_{k+1},p_{k+1}^2]$\n",
    "for $p_k=14929$\n",
    "$$ H(p=14929) \\; {\\rm with} \\; \\lambda=0.3880218443549397$$\n",
    "\n",
    "Continuing our studies of $\\Delta H(p_k)$, here we study the quadratic density $\\eta(p)$ of the intervals of survival.\n",
    "$$ \\eta(p_k) = \\frac{1}{p_{k+1}-p_k} |N_{\\Delta H}(p_k)|$$\n",
    "This gives us the average occurrence of a gap $g$ in an interval $[n^2,(n+1)^2]$ in $\\Delta H(p_k)$.  "
   ]
  },
  {
   "cell_type": "code",
   "execution_count": 1,
   "id": "4535b620-aea8-4270-b810-76a2288702fb",
   "metadata": {},
   "outputs": [
    {
     "data": {
      "text/plain": [
       "<function matplotlib.pyplot.ion() -> 'AbstractContextManager'>"
      ]
     },
     "execution_count": 1,
     "metadata": {},
     "output_type": "execute_result"
    }
   ],
   "source": [
    "%reset -f\n",
    "\n",
    "import pandas as pd\n",
    "import numpy as np\n",
    "from numpy.polynomial.polynomial import polyval\n",
    "import array\n",
    "import matplotlib\n",
    "%matplotlib inline\n",
    "import matplotlib.pyplot as plt\n",
    "#from plotnine import ggplot, geom_point, aes, geom_line, theme, ggsave\n",
    "import gc\n",
    "import psutil\n",
    "import sys\n",
    "\n",
    "import itertools\n",
    "from ipywidgets import interact\n",
    "import ipywidgets as widgets\n",
    "from IPython.display import display\n",
    "plt.ion\n"
   ]
  },
  {
   "cell_type": "code",
   "execution_count": 3,
   "id": "acb9e104-3ec4-4e29-8346-517d22c30174",
   "metadata": {},
   "outputs": [],
   "source": [
    "try:\n",
    "    primes23 = np.load('primes23.npy')\n",
    "except FileNotFoundError:\n",
    "    print(\"File primes23.npy not found.  See 01 notebooks.\")\n",
    "    sys.exit(1)\n",
    "\n",
    "try:\n",
    "    G23 = np.load('G23uint.npy')\n",
    "except FileNotFoundError:\n",
    "    print(\"File G23uint.npy not found.  See 01 notebooks.\")\n",
    "    sys.exit(2)\n",
    "\n",
    "try:\n",
    "    cG23 = np.load('cG23.npy')\n",
    "except FileNotFoundError:\n",
    "    print(\"File cG23.npy not found.  See 01 notebooks.\")\n",
    "    sys.exit(3)\n"
   ]
  },
  {
   "cell_type": "code",
   "execution_count": 4,
   "id": "13f5ddeb-b7dc-479d-89aa-cc1c5a55096e",
   "metadata": {},
   "outputs": [
    {
     "name": "stdout",
     "output_type": "stream",
     "text": [
      "Available memory: 3111.70 MB\n"
     ]
    }
   ],
   "source": [
    "# block to check the available system memory\n",
    "gc.collect()\n",
    "memory = psutil.virtual_memory()\n",
    "available_memory = memory.available\n",
    "del memory\n",
    "print(f\"Available memory: {available_memory / (1024 ** 2):.2f} MB\")"
   ]
  },
  {
   "cell_type": "code",
   "execution_count": 5,
   "id": "7600f947-bbc0-4e2c-924b-3b0dec7b67e7",
   "metadata": {},
   "outputs": [
    {
     "name": "stdout",
     "output_type": "stream",
     "text": [
      "Length primes 12283522 gaps 12283523 maxp 223092827\n"
     ]
    }
   ],
   "source": [
    "lenp23 = len(primes23)\n",
    "maxp23 = primes23[-1]\n",
    "print(f\"Length primes {lenp23} gaps {len(cG23)} maxp {maxp23}\")\n",
    "# These lengths= primes 12283522 gaps 12283523 maxp 223092827"
   ]
  },
  {
   "cell_type": "code",
   "execution_count": 6,
   "id": "69a04828-fb58-4d24-9d64-37d6003441c3",
   "metadata": {},
   "outputs": [],
   "source": [
    "lambda23 = np.zeros(lenp23)"
   ]
  },
  {
   "cell_type": "code",
   "execution_count": 7,
   "id": "c4c144d3-759c-4cf8-afe3-1377de130256",
   "metadata": {},
   "outputs": [],
   "source": [
    "# primes23[2:5] are 37, 41, 43\n",
    "lambda23[0] = 1\n",
    "ilam = 0\n",
    "ip = 2 # the offset from lambda23 into primes23 for p0=37\n",
    "while (ip < (lenp23-1)):\n",
    "    ilam += 1\n",
    "    ip += 1\n",
    "    lambda23[ilam] = lambda23[ilam-1]*(primes23[ip]-3)/(primes23[ip]-2)"
   ]
  },
  {
   "cell_type": "code",
   "execution_count": 8,
   "id": "5450dc1a-d9b5-412b-9539-0a6cc15b8167",
   "metadata": {},
   "outputs": [
    {
     "data": {
      "text/plain": [
       "array([28,  2,  6,  4,  2,  4,  6,  6,  2,  6], dtype=uint16)"
      ]
     },
     "execution_count": 8,
     "metadata": {},
     "output_type": "execute_result"
    }
   ],
   "source": [
    "# to match indexing across arrays, cG23[i]=primes23[i]-primes23[i-1]\n",
    "cG23[0:10]"
   ]
  },
  {
   "cell_type": "code",
   "execution_count": 9,
   "id": "f236580c-110e-4c76-a184-2b42bc24db0f",
   "metadata": {},
   "outputs": [
    {
     "data": {
      "text/plain": [
       "array([0.19416066, 0.19416066, 0.19416065, 0.19416065, 0.19416065,\n",
       "       0.19416065, 0.19416065, 0.19416065, 0.19416065, 0.19416065,\n",
       "       0.19416065, 0.19416065, 0.19416065, 0.19416064, 0.19416064,\n",
       "       0.19416064, 0.19416064, 0.19416064, 0.19416064, 0.19416064,\n",
       "       0.19416064, 0.19416064, 0.19416064, 0.19416064, 0.19416064,\n",
       "       0.19416063, 0.19416063, 0.19416063, 0.19416063, 0.19416063,\n",
       "       0.19416063, 0.19416063, 0.19416063, 0.19416063, 0.19416063,\n",
       "       0.19416063, 0.19416062, 0.19416062, 0.19416062, 0.19416062,\n",
       "       0.19416062, 0.19416062, 0.19416062, 0.19416062, 0.19416062,\n",
       "       0.19416062, 0.19416062, 0.19416062, 0.19416061, 0.19416061,\n",
       "       0.19416061, 0.19416061, 0.19416061, 0.19416061, 0.19416061,\n",
       "       0.19416061, 0.19416061, 0.19416061, 0.19416061, 0.1941606 ,\n",
       "       0.1941606 , 0.1941606 , 0.1941606 , 0.1941606 , 0.1941606 ,\n",
       "       0.1941606 , 0.1941606 , 0.1941606 , 0.1941606 , 0.1941606 ,\n",
       "       0.1941606 , 0.19416059, 0.19416059, 0.19416059, 0.19416059,\n",
       "       0.19416059, 0.19416059, 0.19416059, 0.19416059, 0.19416059,\n",
       "       0.19416059, 0.19416059, 0.19416058, 0.19416058, 0.19416058,\n",
       "       0.19416058, 0.19416058, 0.19416058, 0.19416058, 0.19416058,\n",
       "       0.19416058, 0.19416058, 0.19416058, 0.19416058, 0.19416057,\n",
       "       0.19416057, 0.19416057, 0.19416057, 0.        ])"
      ]
     },
     "execution_count": 9,
     "metadata": {},
     "output_type": "execute_result"
    }
   ],
   "source": [
    "lambda23[-100:-1]"
   ]
  },
  {
   "cell_type": "code",
   "execution_count": 10,
   "id": "323b43c5-b197-44e2-8226-80d8212d67c8",
   "metadata": {},
   "outputs": [
    {
     "data": {
      "text/plain": [
       "np.uint16(248)"
      ]
     },
     "execution_count": 10,
     "metadata": {},
     "output_type": "execute_result"
    }
   ],
   "source": [
    "maxgap = max(cG23)\n",
    "maxgap"
   ]
  },
  {
   "cell_type": "code",
   "execution_count": 11,
   "id": "529d4ce4-d0f2-4810-ab18-db5ab3cf8c58",
   "metadata": {},
   "outputs": [
    {
     "data": {
      "text/plain": [
       "np.float64(18.161961352618462)"
      ]
     },
     "execution_count": 11,
     "metadata": {},
     "output_type": "execute_result"
    }
   ],
   "source": [
    "np.mean(cG23)"
   ]
  },
  {
   "cell_type": "code",
   "execution_count": 12,
   "id": "a89977aa-2d75-4241-9e0b-b77bafe670f2",
   "metadata": {},
   "outputs": [
    {
     "data": {
      "text/plain": [
       "np.float64(14936.292277536617)"
      ]
     },
     "execution_count": 12,
     "metadata": {},
     "output_type": "execute_result"
    }
   ],
   "source": [
    "np.sqrt(maxp23)"
   ]
  },
  {
   "cell_type": "code",
   "execution_count": 13,
   "id": "8825c029-9a5b-43bd-8d94-927ef77246df",
   "metadata": {},
   "outputs": [
    {
     "name": "stdout",
     "output_type": "stream",
     "text": [
      "i 1738 p23 14929 p^2 222875041 maxp23 223092827 lambda 0.3880\n"
     ]
    }
   ],
   "source": [
    "# bounds on parameters for cG23\n",
    "i=0\n",
    "while (primes23[i] < 14936):\n",
    "    i += 1\n",
    "i -= 1\n",
    "print(f\"i {i} p23 {primes23[i]} p^2 {primes23[i]**2} maxp23 {primes23[-1]} lambda {lambda23[i-2]:.4f}\")"
   ]
  },
  {
   "cell_type": "code",
   "execution_count": 14,
   "id": "4d1ce534-479c-4d3b-a5c4-cce4bad1b311",
   "metadata": {},
   "outputs": [
    {
     "name": "stdout",
     "output_type": "stream",
     "text": [
      "i 7863 p23 80429 p^2 6468824041 maxp23 223092827 lambda 0.3304\n"
     ]
    }
   ],
   "source": [
    "# bounds on parameters for cG29\n",
    "pbound = np.sqrt(29)*14936\n",
    "i=0\n",
    "while (primes23[i] < pbound):\n",
    "    i += 1\n",
    "i -= 1\n",
    "print(f\"i {i} p23 {primes23[i]} p^2 {primes23[i]**2} maxp23 {primes23[-1]} lambda {lambda23[i-2]:.4f}\")"
   ]
  },
  {
   "cell_type": "markdown",
   "id": "7becb127-8d15-411f-ba53-ec1b2ece5a9b",
   "metadata": {},
   "source": [
    "## Accumulations over intervals $\\Delta H(p)$\n",
    "For comparison with the relative populations $w_{g,1}(p^\\#)$, we accumulate the counts of gaps within the intervals of survival $\\Delta H(p) = [p^2, q^2]$."
   ]
  },
  {
   "cell_type": "code",
   "execution_count": 15,
   "id": "83bb6303-be3e-4702-9251-667fe6ae2a4d",
   "metadata": {},
   "outputs": [
    {
     "name": "stdout",
     "output_type": "stream",
     "text": [
      "array created 1738 x 124\n"
     ]
    }
   ],
   "source": [
    "ninterval = 1738 # max prime index for cG23\n",
    "ngaps = int(maxgap/2)\n",
    "DelHcounts = np.zeros((ninterval, ngaps), dtype=int)\n",
    "print(f\"array created {ninterval} x {ngaps}\")"
   ]
  },
  {
   "cell_type": "code",
   "execution_count": 16,
   "id": "30b46cba-d3af-4c2d-8fe5-4b58b2bb7624",
   "metadata": {},
   "outputs": [
    {
     "name": "stdout",
     "output_type": "stream",
     "text": [
      "ip 1737 of 1738 p= 14923 at i 12262909"
     ]
    }
   ],
   "source": [
    "# NOTE on indexing:  cG23[i] = primes23[i]-primes23[i-1]\n",
    "ip = 0\n",
    "p = primes23[ip]\n",
    "psqr = p*p\n",
    "i = 0\n",
    "while (primes23[i] < psqr):\n",
    "    i +=1\n",
    "# We're ready to start the count - i is pointing at the first gap in the first interval\n",
    "while (ip < ninterval):\n",
    "    print(f\"ip {ip} of {ninterval} p= {primes23[ip]} at i {i}\", end='\\r')\n",
    "    psqr = (primes23[ip+1])**2\n",
    "    while (primes23[i] < psqr):\n",
    "        j = int(cG23[i]/2 - 1+0.1)  # indices are half the value of the gap, adding 0.1 to insure rounding\n",
    "        DelHcounts[ip,j] = DelHcounts[ip,j] + 1\n",
    "        i += 1\n",
    "    ip += 1\n",
    "# Counts of DelH completed over the covered range, from p=29 to p=14929\n"
   ]
  },
  {
   "cell_type": "code",
   "execution_count": 17,
   "id": "1c6619b0-3996-4c4c-b5df-90845616db00",
   "metadata": {},
   "outputs": [
    {
     "data": {
      "text/plain": [
       "array([[ 412,  432,  753,  327,  400,  504,  314,  243,  420,  233],\n",
       "       [1278, 1272, 2217, 1011, 1273, 1676,  877,  670, 1302,  680],\n",
       "       [ 879,  845, 1520,  674,  885, 1082,  605,  425,  862,  408],\n",
       "       [1647, 1753, 2976, 1327, 1735, 2221, 1255,  906, 1649,  889],\n",
       "       [ 216,  225,  357,  158,  209,  280,  158,  113,  222,  112],\n",
       "       [1090, 1055, 1899,  796, 1073, 1358,  757,  582, 1086,  556],\n",
       "       [ 854,  821, 1577,  661,  840, 1084,  553,  480,  805,  451],\n",
       "       [ 438,  428,  757,  326,  425,  577,  292,  253,  368,  225],\n",
       "       [ 636,  644, 1104,  521,  665,  786,  481,  350,  638,  333],\n",
       "       [2768, 2804, 4911, 2174, 2839, 3509, 2022, 1551, 2707, 1471],\n",
       "       [ 634,  636, 1148,  496,  622,  830,  405,  323,  580,  338]])"
      ]
     },
     "execution_count": 17,
     "metadata": {},
     "output_type": "execute_result"
    }
   ],
   "source": [
    "# np.save('DelH29_14923.npy',DelHcounts)\n",
    "# visual checks on histogram data\n",
    "DelHcounts[-11:,0:10]"
   ]
  },
  {
   "cell_type": "code",
   "execution_count": 18,
   "id": "3a703b45-cb53-4bd5-b8ce-2634d5139e53",
   "metadata": {},
   "outputs": [
    {
     "data": {
      "text/plain": [
       "array([ 895223,  895902, 1575342,  688899,  888391, 1123493,  615227,\n",
       "        455120,  818700,  435767,  377389,  558733,  260987,  283355,\n",
       "        494297,  152949,  160426,  257558,  118599,  139438,  200812,\n",
       "         81339,   69001,  118137,   66068,   49069,   81284,   41034,\n",
       "         35534,   70642,   21417,   22202,   39803,   16013,   22638,\n",
       "         22275,   10993,    9399,   18051,    8834,    6265,   12858,\n",
       "          4509,    4594,    9254,    2981,    2698,    4697,    2438,\n",
       "          2542,    3210,    1573,    1235,    2185,    1276,     996,\n",
       "          1481,     608,     578,    1299,     390,     416,     718,\n",
       "           251,     297,     406,     165,     136,     294,     188,\n",
       "           115,     172,      67,      86,     150,      67,      57,\n",
       "            81,      33,      38,      42,      26,      15,      43,\n",
       "            22,      12,      14,      17,      14,      13,      10,\n",
       "             9,       5,       1,       1,       5,       2,       3,\n",
       "             6,       0,       2,       3,       0,       2,       4,\n",
       "             1,       0,       1,       0,       1,       2,       0,\n",
       "             0,       0,       0,       0,       1,       1,       0,\n",
       "             0,       0,       0,       0,       1])"
      ]
     },
     "execution_count": 18,
     "metadata": {},
     "output_type": "execute_result"
    }
   ],
   "source": [
    "# visual checks on histogram data\n",
    "sum(DelHcounts[:,])"
   ]
  },
  {
   "cell_type": "markdown",
   "id": "f4b66ec8-7307-4ae5-a54a-f3043ea89800",
   "metadata": {},
   "source": [
    "## Quadratic density $\\eta(p_k)$\n",
    "From the counts of gaps in the intervals of survival $\\Delta H(p_k)$ we calculate the quadratic residues\n",
    "$$\\eta(p_k) = \\frac{1}{p_{k+1}-p_k} \\cdot N_{\\Delta H}(p_k).$$\n",
    "As $p_k$ grows the length of the interval $\\Delta H(p_k)$ grows almost proportionally to the gap $g=p_{k+1}-p_k $.\n",
    "$$|\\Delta H(p_k)| = p_{k+1}^2- p_k^2 = g \\cdot(2p_k+g)$$\n"
   ]
  },
  {
   "cell_type": "code",
   "execution_count": 19,
   "id": "c579861e-72af-46a7-9223-1a78d4eddf04",
   "metadata": {},
   "outputs": [],
   "source": [
    "# calculate the quadratic density eta across the intervals of survival\n",
    "eta = np.zeros((ninterval,ngaps),dtype=float)\n",
    "i=0\n",
    "while (i < ninterval):\n",
    "    j=0\n",
    "    while (j < ngaps):\n",
    "        eta[i,j] = DelHcounts[i,j]/(cG23[i+1])\n",
    "        j += 1\n",
    "    i += 1"
   ]
  },
  {
   "cell_type": "code",
   "execution_count": 20,
   "id": "49715814-7ad6-4ffd-986e-138605c8d12f",
   "metadata": {},
   "outputs": [
    {
     "name": "stdout",
     "output_type": "stream",
     "text": [
      "prime 13619 gap 8 count [ 760  783 1380  619] densities ['95.000', '97.875', '172.500', '77.375']\n",
      "prime 13627 gap 6 count [ 582  629 1068  461] densities ['97.000', '104.833', '178.000', '76.833']\n",
      "prime 13633 gap 16 count [1594 1629 2887 1241] densities ['99.625', '101.812', '180.438', '77.562']\n",
      "prime 13649 gap 20 count [1997 1989 3476 1545] densities ['99.850', '99.450', '173.800', '77.250']\n",
      "prime 13669 gap 10 count [1041  937 1763  715] densities ['104.100', '93.700', '176.300', '71.500']\n",
      "prime 13679 gap 2 count [199 198 348 160] densities ['99.500', '99.000', '174.000', '80.000']\n",
      "prime 13681 gap 6 count [ 614  599 1011  489] densities ['102.333', '99.833', '168.500', '81.500']\n",
      "prime 13687 gap 4 count [431 412 697 321] densities ['107.750', '103.000', '174.250', '80.250']\n",
      "prime 13691 gap 2 count [193 175 382 168] densities ['96.500', '87.500', '191.000', '84.000']\n",
      "prime 13693 gap 4 count [388 360 656 318] densities ['97.000', '90.000', '164.000', '79.500']\n",
      "prime 13697 gap 12 count [1236 1195 2084  898] densities ['103.000', '99.583', '173.667', '74.833']\n",
      "prime 13709 gap 2 count [225 200 344 157] densities ['112.500', '100.000', '172.000', '78.500']\n",
      "prime 13711 gap 10 count [ 994  975 1818  771] densities ['99.400', '97.500', '181.800', '77.100']\n",
      "prime 13721 gap 2 count [200 206 360 162] densities ['100.000', '103.000', '180.000', '81.000']\n",
      "prime 13723 gap 6 count [ 579  598 1081  454] densities ['96.500', '99.667', '180.167', '75.667']\n",
      "prime 13729 gap 22 count [2147 2199 3923 1729] densities ['97.591', '99.955', '178.318', '78.591']\n",
      "prime 13751 gap 6 count [ 606  632 1037  483] densities ['101.000', '105.333', '172.833', '80.500']\n",
      "prime 13757 gap 2 count [188 202 384 162] densities ['94.000', '101.000', '192.000', '81.000']\n",
      "prime 13759 gap 4 count [389 387 680 323] densities ['97.250', '96.750', '170.000', '80.750']\n",
      "prime 13763 gap 18 count [1828 1802 3213 1409] densities ['101.556', '100.111', '178.500', '78.278']\n"
     ]
    }
   ],
   "source": [
    "# checking details in small data samples\n",
    "i=1600\n",
    "while (i < 1620):\n",
    "    print(f\"prime {primes23[i]} gap {cG23[i+1]} count {DelHcounts[i,0:4]} densities {[f'{num:.3f}' for num in eta[i,0:4]]}\")\n",
    "    i += 1"
   ]
  },
  {
   "cell_type": "code",
   "execution_count": 21,
   "id": "1e28e9dd-0c9a-4550-89fd-85690ec1e94a",
   "metadata": {},
   "outputs": [],
   "source": [
    "# Develop a master color dictionary - up to g=100\n",
    "# we set colors by family, as determined by prime factors of the gap\n",
    "mastercolordict={'2':'#FF0000', '4':'#FF8888', '8':'#EEBBBB', '16':'#FF99CC', '32':'#FFDDDD', '64':'#FFEEEE',\n",
    "                 '6':'#0000FF', '12':'#00DDFF', '18':'#6666FF', '24':'#BBBBFF', '36':'#DDDDFF', '48':'#0000AF',\n",
    "                 '54':'#44448F', '72':'#88888F',\n",
    "                 '10':'#00CC00', '20':'#98FB98', '40':'#DDFFCF', '50':'#BBFFBB', '80':'#44AA66', '100':'#228F3F',\n",
    "                 '30':'#FFD700', '60':'#FFB000', '90':'#FFCC33',\n",
    "                 '14':'#DD00EE', '28':'#AA22CC', '56':'#660066', '98':'#662266',\n",
    "                 '42':'#0088BB', '84':'#4488BB', '70':'#00BB88', \n",
    "                 '22':'#884400', '44':'#884444', '66':'#884488', '88':'#AA6644',\n",
    "                 '26':'#AAAAAA', '52':'#888888', '78':'#6666AA',\n",
    "                 '34':'#CC0000', '68':'#CC4444', '38':'#AA8800', '76':'#AA9944'}"
   ]
  },
  {
   "cell_type": "code",
   "execution_count": 22,
   "id": "d22f71bc-f8fd-4cb0-a3f5-344843dcc9ba",
   "metadata": {},
   "outputs": [],
   "source": [
    "gapnames = np.arange(2, maxgap+2, 2)"
   ]
  },
  {
   "cell_type": "code",
   "execution_count": 23,
   "id": "a0675836-0b70-47d6-9bde-e8cfeb8d3123",
   "metadata": {},
   "outputs": [
    {
     "name": "stdout",
     "output_type": "stream",
     "text": [
      "max 1738 14929\n"
     ]
    }
   ],
   "source": [
    "print(f\"max {ninterval} {primes23[ninterval]}\")"
   ]
  },
  {
   "cell_type": "code",
   "execution_count": 24,
   "id": "8fdb57b7-f52d-4787-ad49-df8096bd8556",
   "metadata": {},
   "outputs": [
    {
     "data": {
      "application/vnd.jupyter.widget-view+json": {
       "model_id": "482525e093ed4ac18d6e464797230625",
       "version_major": 2,
       "version_minor": 0
      },
      "text/plain": [
       "interactive(children=(IntSlider(value=25, description='Num DelH', layout=Layout(width='80%'), max=200, min=10,…"
      ]
     },
     "metadata": {},
     "output_type": "display_data"
    },
    {
     "data": {
      "text/plain": [
       "<function __main__.draw_eta(numpdex, highpdex)>"
      ]
     },
     "execution_count": 24,
     "metadata": {},
     "output_type": "execute_result"
    }
   ],
   "source": [
    "lowgapdex = 0\n",
    "highgapdex = 45  # the gap index is half the gap size:  gap = 2*(gapdex+1)\n",
    "gaprange = (gapnames[lowgapdex:highgapdex]).astype(str)\n",
    "numgaps = highgapdex-lowgapdex\n",
    "\n",
    "def draw_eta(numpdex, highpdex):   # the input parameters are indices, not the prime values themselves\n",
    "    if (numpdex < highpdex):\n",
    "        lowpdex = highpdex - numpdex\n",
    "    else:\n",
    "        lowpdex = 0\n",
    "        highpdex = numpdex\n",
    "\n",
    "    primerange = (primes23[lowpdex:highpdex]).astype(str)\n",
    "    partialeta = eta[lowpdex:highpdex, lowgapdex:highgapdex].copy()\n",
    "    partialeta = partialeta.transpose()\n",
    "    \n",
    "    flat_eta = partialeta.flatten()\n",
    "    xgaps = np.repeat(gaprange, numpdex)\n",
    "\n",
    "    # create the color dictionary, using gapsizes in primes23 from lowpdex to highpdex\n",
    "    i = 0\n",
    "    colordict = []\n",
    "    while (i < highgapdex):\n",
    "        j=lowpdex\n",
    "        while (j < highpdex):\n",
    "            pstring = str(primes23[j])\n",
    "            gapstring = str(cG23[j+1])  # cG23[i] = primes23[i]-primes[i-1]\n",
    "            if gapstring in mastercolordict:\n",
    "                colorstring = mastercolordict[gapstring]\n",
    "            else:\n",
    "                print(f\"Missing color for {gapstring} at {pstring}\")\n",
    "                colorstring = '#080808'\n",
    "            colordict.append(colorstring)\n",
    "            j += 1\n",
    "        i += 1\n",
    "\n",
    "    fig, ax = plt.subplots()\n",
    "    fig.set_size_inches(12,8)\n",
    "\n",
    "    lamvalue0 = lambda23[lowpdex]\n",
    "    lamvalue1 = lambda23[highpdex]\n",
    "    middex = int((highpdex+lowpdex)/2)\n",
    "    ptitle = (primes23[middex])**2\n",
    "    ax.set_title(f\"Quadratic densities over prime gaps in {numpdex} intervals of survival around {ptitle:.3e}\\n primes {primes23[lowpdex]}-{primes23[highpdex]},  $\\lambda \\in$ [{lamvalue1:.3f},{lamvalue0:.3f}]\")\n",
    "    plt.grid(True,axis='y',color='#A0A0A0',lw=0.4)\n",
    "\n",
    "    eta_mu = np.zeros(numgaps)\n",
    "    eta_std = np.zeros(numgaps)\n",
    "    i=0\n",
    "    while (i < numgaps):\n",
    "        eta_mu[i] = np.mean(partialeta[i,:])\n",
    "        eta_std[i] = np.std(partialeta[i,:])\n",
    "        i += 1\n",
    "\n",
    "    eta_stdmark0 = eta_mu - eta_std\n",
    "    eta_stdmark00 = eta_mu - 2*eta_std\n",
    "    eta_stdmark1 = eta_mu + eta_std\n",
    "    eta_stdmark11 = eta_mu + 2*eta_std\n",
    "\n",
    "    plt.scatter(gaprange,eta_mu, marker='D', color='black', s=90)\n",
    "    plt.scatter(gaprange,eta_stdmark0, marker='_', color='black', s=150)\n",
    "    plt.scatter(gaprange,eta_stdmark1, marker='_', color='black', s=150)\n",
    "    plt.scatter(gaprange,eta_stdmark00, marker='_', color='black', s=150)\n",
    "    plt.scatter(gaprange,eta_stdmark11, marker='_', color='black', s=150)\n",
    "    plt.scatter(xgaps,flat_eta, c=colordict, marker='x', s=25)\n",
    "\n",
    "    plt.show()\n",
    "\n",
    "# Interactive controls\n",
    "\n",
    "xnumpSelect = widgets.IntSlider(min=10, max=200, step=5, value=25,\n",
    "                  description=\"Num DelH\", layout=widgets.Layout(width='80%'), disabled=False)\n",
    "xhighpSelect = widgets.IntSlider(min=10, max=1737, step=1, value=1737, description=\"High_pdex\", layout=widgets.Layout(width='80%'), disabled=False)\n",
    "\n",
    "interact(draw_eta, numpdex=xnumpSelect, highpdex=xhighpSelect)\n"
   ]
  },
  {
   "cell_type": "code",
   "execution_count": null,
   "id": "8e910574-50f0-4de6-b4b4-3de6b1dfad79",
   "metadata": {},
   "outputs": [],
   "source": []
  },
  {
   "cell_type": "markdown",
   "id": "5c774509-635a-4b1e-875d-4298034f803c",
   "metadata": {},
   "source": [
    "## Quadratic density for intervals of survival $\\Delta H(p)$\n",
    "The interactive figure above displays the quadratic density of prime gaps by size of gap, across consecutive intervals of survival $\\Delta H(p_k) = [p_k^2, p_{k+1}^2]$.\n",
    "\n",
    "We color-code the marker for $\\Delta H(p_k)$ by the size of the gap $p_{k+1}-p_k$.  For each gap we also show the mean of the samples and two standards deviations above and below the mean.\n"
   ]
  },
  {
   "cell_type": "code",
   "execution_count": null,
   "id": "4b67a5fe-a447-4415-a4fa-c073c6767e5b",
   "metadata": {},
   "outputs": [],
   "source": []
  }
 ],
 "metadata": {
  "kernelspec": {
   "display_name": "Python 3 (ipykernel)",
   "language": "python",
   "name": "python3"
  },
  "language_info": {
   "codemirror_mode": {
    "name": "ipython",
    "version": 3
   },
   "file_extension": ".py",
   "mimetype": "text/x-python",
   "name": "python",
   "nbconvert_exporter": "python",
   "pygments_lexer": "ipython3",
   "version": "3.11.5"
  }
 },
 "nbformat": 4,
 "nbformat_minor": 5
}
